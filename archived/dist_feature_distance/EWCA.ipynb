{
 "cells": [
  {
   "cell_type": "code",
   "execution_count": 1,
   "metadata": {},
   "outputs": [],
   "source": [
    "# Author: Antoine Collas <antoine.collas@inria.fr>\n",
    "#\n",
    "# License: MIT License\n",
    "# sphinx_gallery_thumbnail_number = 2\n",
    "\n",
    "import numpy as np\n",
    "import matplotlib.pylab as pl\n",
    "from ot.dr import ewca\n",
    "from sklearn.datasets import make_blobs\n",
    "from matplotlib import ticker as mticker\n",
    "import matplotlib.patches as patches\n",
    "import matplotlib\n",
    "\n",
    "n_samples = 20\n",
    "esp = 0.8\n",
    "centers = np.array([[esp, esp], [-esp, -esp]])\n",
    "cluster_std = 0.4\n",
    "\n",
    "rng = np.random.RandomState(42)\n",
    "X, y = make_blobs(\n",
    "    n_samples=n_samples,\n",
    "    n_features=2,\n",
    "    centers=centers,\n",
    "    cluster_std=cluster_std,\n",
    "    shuffle=False,\n",
    "    random_state=rng,\n",
    ")\n",
    "X = X - X.mean(0)\n",
    "\n",
    "pi, U = ewca(X, k=2, reg=0.5)"
   ]
  },
  {
   "cell_type": "code",
   "execution_count": 3,
   "metadata": {},
   "outputs": [
    {
     "data": {
      "text/plain": [
       "(20, 20)"
      ]
     },
     "execution_count": 3,
     "metadata": {},
     "output_type": "execute_result"
    }
   ],
   "source": [
    "pi.shape"
   ]
  },
  {
   "cell_type": "code",
   "execution_count": 5,
   "metadata": {},
   "outputs": [
    {
     "data": {
      "text/plain": [
       "(20, 2)"
      ]
     },
     "execution_count": 5,
     "metadata": {},
     "output_type": "execute_result"
    }
   ],
   "source": [
    "X.shape"
   ]
  },
  {
   "cell_type": "code",
   "execution_count": 4,
   "metadata": {},
   "outputs": [
    {
     "data": {
      "text/plain": [
       "(2, 2)"
      ]
     },
     "execution_count": 4,
     "metadata": {},
     "output_type": "execute_result"
    }
   ],
   "source": [
    "U.shape"
   ]
  }
 ],
 "metadata": {
  "kernelspec": {
   "display_name": "pytorch",
   "language": "python",
   "name": "python3"
  },
  "language_info": {
   "codemirror_mode": {
    "name": "ipython",
    "version": 3
   },
   "file_extension": ".py",
   "mimetype": "text/x-python",
   "name": "python",
   "nbconvert_exporter": "python",
   "pygments_lexer": "ipython3",
   "version": "3.8.19"
  }
 },
 "nbformat": 4,
 "nbformat_minor": 2
}
