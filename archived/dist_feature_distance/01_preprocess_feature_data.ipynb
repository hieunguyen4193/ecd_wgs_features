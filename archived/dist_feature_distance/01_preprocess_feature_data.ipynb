{
 "cells": [
  {
   "cell_type": "code",
   "execution_count": 1,
   "metadata": {},
   "outputs": [
    {
     "name": "stderr",
     "output_type": "stream",
     "text": [
      "100%|██████████| 1471/1471 [00:05<00:00, 279.84it/s]\n"
     ]
    }
   ],
   "source": [
    "import numpy as np\n",
    "import pandas as pd\n",
    "import matplotlib.pyplot as plt\n",
    "import seaborn as sns\n",
    "import os\n",
    "import pathlib\n",
    "from tqdm import tqdm\n",
    "\n",
    "maindir = \"/Users/hieunguyen/data/WGS_features\"\n",
    "outdir = \"/Users/hieunguyen/data/outdir\"\n",
    "data_version = \"20240822\"\n",
    "PROJECT = \"WGS_feature_dist_distance\"\n",
    "output_version = \"20240822\"\n",
    "\n",
    "path_to_main_output = os.path.join(outdir, PROJECT, output_version)\n",
    "path_to_01_output = os.path.join(path_to_main_output, \"01_output\")\n",
    "\n",
    "os.system(\"mkdir -p {}\".format(path_to_01_output))\n",
    "\n",
    "path_to_feature = os.path.join(maindir, data_version, \"feature\")\n",
    "path_to_metadata = os.path.join(maindir, data_version, \"metadata\")\n",
    "\n",
    "\n",
    "metadata = pd.read_excel(os.path.join(path_to_metadata, \"metadata_WGS_20240823.xlsx\"))\n",
    "\n",
    "#####-----------------------------------------------------------------#####\n",
    "##### Pre process the fragment length distribution feature\n",
    "#####-----------------------------------------------------------------#####\n",
    "feature_name = \"flen\"\n",
    "all_flen_features = [item for item in pathlib.Path(path_to_feature).glob(\"*/*_GWfeature_{}.csv\".format(feature_name))]\n",
    "\n",
    "maindf = pd.DataFrame(data = range(1, 302), columns = [\"feat\"])\n",
    "for file in tqdm(all_flen_features):\n",
    "    tmpdf = pd.read_csv(file, index_col = [0])[[\"freq\"]].reset_index()\n",
    "    sampleid = file.name.split(\"_\")[0].split(\"-\")[1]\n",
    "    tmpdf.columns = [\"feat\", sampleid]\n",
    "    maindf = maindf.merge(tmpdf, right_on = \"feat\", left_on=\"feat\")\n",
    "maindf = maindf.set_index(\"feat\")\n",
    "maindf.to_csv(os.path.join(path_to_01_output, \"{}.csv\".format(feature_name)))\n",
    "maindf = maindf[[item for item in maindf.columns if item in metadata[\"SampleID\"].values]]\n",
    "for input_class in metadata[\"Label\"].unique():\n",
    "    selecteddf = maindf[[item for item in maindf.columns if item in metadata[metadata[\"Label\"] == input_class][\"SampleID\"].values]]\n",
    "    selecteddf.to_csv(os.path.join(path_to_01_output, \"{}.{}.csv\".format(input_class, feature_name)))\n",
    "metadata = metadata[metadata[\"SampleID\"].isin(maindf.columns)]\n",
    "metadata.to_csv(os.path.join(path_to_01_output, \"metadata.filtered.{}.csv\".format(feature_name)))\n",
    "\n"
   ]
  },
  {
   "cell_type": "code",
   "execution_count": 2,
   "metadata": {},
   "outputs": [
    {
     "name": "stderr",
     "output_type": "stream",
     "text": [
      "100%|██████████| 1471/1471 [00:08<00:00, 183.86it/s]\n"
     ]
    }
   ],
   "source": [
    "#####-----------------------------------------------------------------#####\n",
    "##### Pre process the fragment length distribution feature\n",
    "#####-----------------------------------------------------------------#####\n",
    "feature_name = \"flen\"\n",
    "all_flen_features = [item for item in pathlib.Path(path_to_feature).glob(\"*/*_GWfeature_{}.csv\".format(feature_name))]\n",
    "\n",
    "maindf = pd.DataFrame(data = range(1, 152), columns = [\"feat\"])\n",
    "for file in tqdm(all_flen_features):\n",
    "    tmpdf = pd.read_csv(file, index_col = [0])[[\"count\"]][50:201]\n",
    "    tmpdf[\"feat\"] = range(1, 152)\n",
    "    sampleid = file.name.split(\"_\")[0].split(\"-\")[1]\n",
    "    tmpdf.columns = [sampleid, \"feat\"]\n",
    "    tmpdf[sampleid] = tmpdf[sampleid].apply(lambda x: x/tmpdf[sampleid].sum())\n",
    "    maindf = maindf.merge(tmpdf, right_on = \"feat\", left_on=\"feat\")\n",
    "maindf = maindf.set_index(\"feat\")\n",
    "maindf.to_csv(os.path.join(path_to_01_output, \"{}.csv\".format(feature_name)))\n",
    "maindf = maindf[[item for item in maindf.columns if item in metadata[\"SampleID\"].values]]\n",
    "for input_class in metadata[\"Label\"].unique():\n",
    "    selecteddf = maindf[[item for item in maindf.columns if item in metadata[metadata[\"Label\"] == input_class][\"SampleID\"].values]]\n",
    "    selecteddf.to_csv(os.path.join(path_to_01_output, \"{}.{}_151.csv\".format(input_class, feature_name)))\n"
   ]
  },
  {
   "cell_type": "code",
   "execution_count": 3,
   "metadata": {},
   "outputs": [
    {
     "name": "stderr",
     "output_type": "stream",
     "text": [
      "100%|██████████| 1471/1471 [00:15<00:00, 96.75it/s]\n"
     ]
    }
   ],
   "source": [
    "#####-----------------------------------------------------------------#####\n",
    "##### Pre process nucleosome footprint features\n",
    "#####-----------------------------------------------------------------#####\n",
    "feature_name = \"Nucleosome\"\n",
    "all_nuc_features = [item for item in pathlib.Path(path_to_feature).glob(\"*/*_GWfeature_{}.csv\".format(feature_name))]\n",
    "\n",
    "maindf = pd.DataFrame(data = range(-300, 301), columns = [\"feat\"])\n",
    "for file in tqdm(all_nuc_features):\n",
    "    sampleid = file.name.split(\"_\")[0].split(\"-\")[1]\n",
    "    tmpdf = pd.read_csv(file)\n",
    "    tmpdf = tmpdf.set_index(\"Sample\").T\n",
    "    tmpdf[\"feat\"] = range(-300, 301)\n",
    "    tmpdf.columns = [sampleid, \"feat\"]\n",
    "    maindf = maindf.merge(tmpdf, right_on = \"feat\", left_on=\"feat\")\n",
    "    \n",
    "maindf = maindf.set_index(\"feat\")\n",
    "maindf.to_csv(os.path.join(path_to_01_output, \"{}.csv\".format(feature_name)))\n",
    "maindf = maindf[[item for item in maindf.columns if item in metadata[\"SampleID\"].values]]\n",
    "for input_class in metadata[\"Label\"].unique():\n",
    "    selecteddf = maindf[[item for item in maindf.columns if item in metadata[metadata[\"Label\"] == input_class][\"SampleID\"].values]]\n",
    "    selecteddf.to_csv(os.path.join(path_to_01_output, \"{}.{}.csv\".format(input_class, feature_name)))\n"
   ]
  },
  {
   "cell_type": "code",
   "execution_count": 4,
   "metadata": {},
   "outputs": [
    {
     "name": "stderr",
     "output_type": "stream",
     "text": [
      "100%|██████████| 1471/1471 [00:04<00:00, 301.91it/s]\n"
     ]
    }
   ],
   "source": [
    "#####-----------------------------------------------------------------#####\n",
    "##### Pre process end motif\n",
    "#####-----------------------------------------------------------------#####\n",
    "feature_name = \"EM\"\n",
    "maindf = pd.DataFrame(data = [\"{}{}{}{}\".format(i,j,k,l) for i in [\"A\", \"T\", \"G\", \"C\"] for j in [\"A\", \"T\", \"G\", \"C\"] for k in [\"A\", \"T\", \"G\", \"C\"] for l in [\"A\", \"T\", \"G\", \"C\"]], columns = [\"feat\"])\n",
    "all_em_features = [item for item in pathlib.Path(path_to_feature).glob(\"*/*_GWfeature_{}.csv\".format(feature_name))]\n",
    "for file in tqdm(all_em_features):\n",
    "    sampleid = file.name.split(\"_\")[0].split(\"-\")[1]\n",
    "    tmpdf = pd.read_csv(file)[[\"motif\", \"freq\"]]\n",
    "    tmpdf.columns = [\"feat\", sampleid]\n",
    "    maindf = maindf.merge(tmpdf, right_on = \"feat\", left_on=\"feat\")\n",
    "maindf = maindf.set_index(\"feat\")\n",
    "maindf.to_csv(os.path.join(path_to_01_output, \"{}.csv\".format(feature_name)))\n",
    "maindf = maindf[[item for item in maindf.columns if item in metadata[\"SampleID\"].values]]\n",
    "for input_class in metadata[\"Label\"].unique():\n",
    "    selecteddf = maindf[[item for item in maindf.columns if item in metadata[metadata[\"Label\"] == input_class][\"SampleID\"].values]]\n",
    "    selecteddf.to_csv(os.path.join(path_to_01_output, \"{}.{}.csv\".format(input_class, feature_name)))\n",
    "    \n"
   ]
  }
 ],
 "metadata": {
  "kernelspec": {
   "display_name": "pytorch",
   "language": "python",
   "name": "python3"
  },
  "language_info": {
   "codemirror_mode": {
    "name": "ipython",
    "version": 3
   },
   "file_extension": ".py",
   "mimetype": "text/x-python",
   "name": "python",
   "nbconvert_exporter": "python",
   "pygments_lexer": "ipython3",
   "version": "3.8.19"
  }
 },
 "nbformat": 4,
 "nbformat_minor": 2
}
