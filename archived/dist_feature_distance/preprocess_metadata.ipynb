{
 "cells": [
  {
   "cell_type": "code",
   "execution_count": 18,
   "metadata": {},
   "outputs": [],
   "source": [
    "import numpy as np\n",
    "import pandas as pd\n",
    "import matplotlib.pyplot as plt\n",
    "import seaborn as sns\n",
    "import os\n",
    "import pathlib\n",
    "from tqdm import tqdm\n",
    "import ot\n",
    "from scipy.spatial.distance import pdist, squareform\n",
    "from sklearn import manifold\n",
    "import warnings\n",
    "warnings.filterwarnings(\"ignore\")\n",
    "tqdm.pandas()\n",
    "\n",
    "from helper_functions import *\n",
    "\n",
    "maindir = \"/Users/hieunguyen/data/WGS_features\"\n",
    "outdir = \"/Users/hieunguyen/data/outdir\"\n",
    "data_version = \"20240822\"\n",
    "PROJECT = \"WGS_feature_dist_distance\"\n",
    "output_version = \"20240822\"\n",
    "feature_name = \"flen\"\n",
    "\n",
    "\n",
    "path_to_feature = os.path.join(maindir, data_version, \"feature\")\n",
    "path_to_metadata = os.path.join(maindir, data_version, \"metadata\")\n",
    "    \n",
    "run_metadata = pd.read_csv(os.path.join(path_to_metadata, \"RUN_metadata.csv\"))[[\"NONBS_ID\", \"Label\", \"Set\"]]\n",
    "run_metadata.columns = [\"nonBS_labcode\", \"Label\", \"Set\"]\n",
    "bs_metadata = pd.read_excel(os.path.join(path_to_metadata, \"BS_metadata.xlsx\"))[[\"LABCODE\", \"BS_ID\", \"Run_GW\"]]\n",
    "bs_metadata.columns = [\"nonBS_labcode\", \"BS_labcode\", \"Run\"]\n",
    "\n",
    "run_metadata = run_metadata.merge(bs_metadata, right_on = \"nonBS_labcode\", left_on = \"nonBS_labcode\")\n",
    "\n",
    "run_metadata.to_csv(\"full_metadata.csv\")"
   ]
  }
 ],
 "metadata": {
  "kernelspec": {
   "display_name": "pytorch",
   "language": "python",
   "name": "python3"
  },
  "language_info": {
   "codemirror_mode": {
    "name": "ipython",
    "version": 3
   },
   "file_extension": ".py",
   "mimetype": "text/x-python",
   "name": "python",
   "nbconvert_exporter": "python",
   "pygments_lexer": "ipython3",
   "version": "3.8.19"
  }
 },
 "nbformat": 4,
 "nbformat_minor": 2
}
