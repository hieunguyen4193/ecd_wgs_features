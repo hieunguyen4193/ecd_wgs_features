{
 "cells": [
  {
   "cell_type": "code",
   "execution_count": 19,
   "metadata": {},
   "outputs": [],
   "source": [
    "import numpy as np\n",
    "import pandas as pd\n",
    "import matplotlib.pyplot as plt\n",
    "import seaborn as sns\n",
    "import os\n",
    "import pathlib\n",
    "from tqdm import tqdm\n",
    "\n",
    "maindir = \"/Users/hieunguyen/data/BS_features\"\n",
    "outdir = \"/Users/hieunguyen/data/outdir\"\n",
    "data_version = \"20240822\"\n",
    "PROJECT = \"WGBS_feature_dist_distance\"\n",
    "output_version = \"20240822\"\n",
    "\n",
    "path_to_main_output = os.path.join(outdir, PROJECT, output_version)\n",
    "path_to_01_output = os.path.join(path_to_main_output, \"01_output_BS\")\n",
    "\n",
    "os.system(\"mkdir -p {}\".format(path_to_01_output))\n",
    "\n",
    "path_to_main_input = os.path.join(maindir, data_version)\n",
    "\n",
    "metadata = pd.read_csv(\"full_metadata.csv\")\n",
    "\n",
    "convert_feature_name = {\n",
    "    \"FLEN\": \"flen\"\n",
    "}\n",
    "\n",
    "##### feature fragment length distribution\n",
    "feature_name = \"FLEN\"\n",
    "feature_file = [item for item in pathlib.Path(path_to_main_input).glob(\"{}/feature.csv\".format(feature_name))]\n",
    "assert len(feature_file) == 1\n",
    "df = pd.read_csv(feature_file[0]).set_index(\"SampleID\")\n",
    "df = df.T.copy()\n",
    "df.index = range(1, df.shape[0] + 1)\n",
    "\n",
    "for input_class in metadata[\"Label\"].unique():\n",
    "    selecteddf = df[[item for item in df.columns if item in metadata[metadata[\"Label\"] == input_class][\"BS_labcode\"].values]]\n",
    "    selecteddf.to_csv(os.path.join(path_to_01_output, \"{}.{}.csv\".format(input_class, convert_feature_name[feature_name])))"
   ]
  },
  {
   "cell_type": "code",
   "execution_count": 26,
   "metadata": {},
   "outputs": [],
   "source": [
    "feature_name = \"EM\"\n",
    "feature_file = [item for item in pathlib.Path(path_to_main_input).glob(\"{}/feature.csv\".format(feature_name))]\n",
    "assert len(feature_file) == 1\n",
    "df = pd.read_csv(feature_file[0]).set_index(\"SampleID\")\n",
    "df = df.T.copy()\n",
    "df.index = [item.replace(\"MOTIF_END_\", \"\") for item in df.index]\n",
    "for input_class in metadata[\"Label\"].unique():\n",
    "    selecteddf = df[[item for item in df.columns if item in metadata[metadata[\"Label\"] == input_class][\"BS_labcode\"].values]]\n",
    "    selecteddf.to_csv(os.path.join(path_to_01_output, \"{}.{}.csv\".format(input_class, feature_name)))\n"
   ]
  }
 ],
 "metadata": {
  "kernelspec": {
   "display_name": "pytorch",
   "language": "python",
   "name": "python3"
  },
  "language_info": {
   "codemirror_mode": {
    "name": "ipython",
    "version": 3
   },
   "file_extension": ".py",
   "mimetype": "text/x-python",
   "name": "python",
   "nbconvert_exporter": "python",
   "pygments_lexer": "ipython3",
   "version": "3.8.19"
  }
 },
 "nbformat": 4,
 "nbformat_minor": 2
}
