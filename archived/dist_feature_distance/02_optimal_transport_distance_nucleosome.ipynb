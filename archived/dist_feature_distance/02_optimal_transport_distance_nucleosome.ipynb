{
 "cells": [
  {
   "cell_type": "code",
   "execution_count": null,
   "metadata": {},
   "outputs": [],
   "source": [
    "import numpy as np\n",
    "import pandas as pd\n",
    "import matplotlib.pyplot as plt\n",
    "import seaborn as sns\n",
    "import os\n",
    "import pathlib\n",
    "from tqdm import tqdm\n",
    "import ot\n",
    "from scipy.spatial.distance import pdist, squareform\n",
    "from sklearn import manifold\n",
    "import warnings\n",
    "warnings.filterwarnings(\"ignore\")\n",
    "tqdm.pandas()\n",
    "\n",
    "from helper_functions import *\n",
    "\n",
    "maindir = \"/Users/hieunguyen/data/WGS_features\"\n",
    "outdir = \"/Users/hieunguyen/data/outdir\"\n",
    "data_version = \"20240822\"\n",
    "PROJECT = \"WGS_feature_dist_distance\"\n",
    "output_version = \"20240822\"\n",
    "feature_name = \"Nucleosome\"\n",
    "\n",
    "path_to_main_output = os.path.join(outdir, PROJECT, output_version)\n",
    "path_to_01_output = os.path.join(path_to_main_output, \"01_output\")\n",
    "path_to_02_output = os.path.join(path_to_main_output, \"02_output\")\n",
    "\n",
    "os.system(\"mkdir -p {}\".format(path_to_02_output))\n",
    "\n",
    "metadata = pd.read_csv(os.path.join(path_to_01_output, \"metadata.filtered.csv\"))\n",
    "controldf = pd.read_csv(os.path.join(path_to_01_output, \"Control.{}.csv\".format(feature_name)), index_col = [0])\n",
    "\n",
    "sample_list = dict()\n",
    "for run in metadata.Run.unique():\n",
    "    sample_list[run] = metadata[(metadata.Run == run) & (metadata.Label == \"Control\")].SampleID.tolist()"
   ]
  },
  {
   "cell_type": "code",
   "execution_count": null,
   "metadata": {},
   "outputs": [],
   "source": [
    "##### define training runs and testing runs, any run before R5253 is used for training, the rest is used for testing\n",
    "training_run = ['R5044',\n",
    "                'R5063',\n",
    "                'R5083',\n",
    "                'R5097',\n",
    "                'R5119',\n",
    "                'R5151',\n",
    "                'R5167',\n",
    "                'R5168',\n",
    "                'R5169',\n",
    "                'R5170',\n",
    "                'R5184',\n",
    "                'R5201',\n",
    "                'R5219',\n",
    "                'R5253']\n",
    "training_samples = metadata[(metadata['Run'].isin(training_run)) & (metadata[\"Label\"] == \"Control\")][\"SampleID\"].unique()\n",
    "testing_samples = metadata[(~metadata['Run'].isin(training_run)) & (metadata[\"Label\"] == \"Control\")][\"SampleID\"].unique()\n",
    "controldf_train = controldf[training_samples].copy()\n",
    "controldf_test = controldf[testing_samples].copy()"
   ]
  },
  {
   "cell_type": "code",
   "execution_count": null,
   "metadata": {},
   "outputs": [],
   "source": [
    "##### calculate the bary center for training samples\n",
    "training_barycenter = calculate_barycenter(A = controldf_train.to_numpy(), n = 601)"
   ]
  },
  {
   "cell_type": "code",
   "execution_count": null,
   "metadata": {},
   "outputs": [],
   "source": [
    "##### caclulate the OT distance from testing samples to \"training samples\" barycenter\n",
    "testdf = pd.DataFrame(data = testing_samples, columns=[\"SampleID\"])\n",
    "testdf = testdf.merge(metadata[[\"SampleID\", \"Label\", \"Run\"]], right_on = \"SampleID\", left_on = \"SampleID\")\n",
    "testdf[\"dist_to_ref\"] = testdf[\"SampleID\"].apply(lambda x: calculate_ot_distance_to_ref(x, training_barycenter, controldf_test, 601))\n",
    "sns.boxplot(data = testdf, x = \"Run\", y = \"dist_to_ref\", hue = \"Label\")\n",
    "plt.xticks(rotation=90)\n",
    "plt.ylim([0, 0.2])"
   ]
  },
  {
   "cell_type": "code",
   "execution_count": null,
   "metadata": {},
   "outputs": [],
   "source": [
    "##### caclulate the OT distance from testing samples to \"training samples\" barycenter\n",
    "traindf = pd.DataFrame(data = training_samples  , columns=[\"SampleID\"])\n",
    "traindf = traindf.merge(metadata[[\"SampleID\", \"Label\", \"Run\"]], right_on = \"SampleID\", left_on = \"SampleID\")\n",
    "traindf[\"dist_to_ref\"] = traindf[\"SampleID\"].apply(lambda x: calculate_ot_distance_to_ref(x, training_barycenter, controldf_train, 601))\n",
    "sns.boxplot(data = traindf, x = \"Run\", y = \"dist_to_ref\", hue = \"Label\")\n",
    "plt.xticks(rotation = 90)\n",
    "plt.ylim([0, 0.2])"
   ]
  },
  {
   "cell_type": "code",
   "execution_count": null,
   "metadata": {},
   "outputs": [],
   "source": [
    "##### generate a pairwise distance matrix and apply MDS\n",
    "otdistdf = pdist(X = controldf.T.to_numpy(), metric=ot_distance_nuc)\n",
    "\n",
    "mds = manifold.MDS(\n",
    "    n_components=2,\n",
    "    max_iter=3000,\n",
    "    eps=1e-9,\n",
    "    random_state=411,\n",
    "    dissimilarity=\"precomputed\",\n",
    "    n_jobs=1,\n",
    ")\n",
    "pos = mds.fit(squareform(otdistdf)).embedding_\n",
    "mdsdf = pd.DataFrame(data = pos, columns = [\"x\", \"y\"])\n",
    "mdsdf[\"SampleID\"] = controldf.columns\n",
    "mdsdf = mdsdf.merge(metadata[[\"SampleID\", \"Label\", \"Run\"]], right_on = \"SampleID\", left_on = \"SampleID\")\n",
    "sns.scatterplot(data = mdsdf, x = \"x\", y = \"y\", hue = \"Run\", style = \"Label\", legend = False)\n"
   ]
  },
  {
   "cell_type": "code",
   "execution_count": null,
   "metadata": {},
   "outputs": [],
   "source": [
    "run_barycenterdf = pd.DataFrame()\n",
    "for run in tqdm(sample_list.keys()):\n",
    "    tmpdf = pd.DataFrame(data = calculate_barycenter(controldf[sample_list[run]].to_numpy(), show_plot = False, n = 601), columns = [run])\n",
    "    run_barycenterdf = pd.concat([run_barycenterdf, tmpdf], axis = 1)\n",
    "    \n",
    "# calculate the variance at each point\n",
    "run_barycenterdf[\"variance\"] = run_barycenterdf.var(axis = 1)\n",
    "\n",
    "# get top 5 highest variance\n",
    "top_var = run_barycenterdf.sort_values(by = \"variance\", ascending = False).head(10).index"
   ]
  },
  {
   "cell_type": "code",
   "execution_count": null,
   "metadata": {},
   "outputs": [],
   "source": [
    "##### show all RUNS barycenter\n",
    "run_barycenterdf.drop(\"variance\", axis = 1).plot()"
   ]
  },
  {
   "cell_type": "code",
   "execution_count": null,
   "metadata": {},
   "outputs": [],
   "source": [
    "for i in range(len(top_var)):\n",
    "    run_barycenterdf.loc[top_var[i]].reset_index().plot( x= \"index\", kind = \"bar\")\n",
    "    plt.show()"
   ]
  }
 ],
 "metadata": {
  "kernelspec": {
   "display_name": "pytorch",
   "language": "python",
   "name": "python3"
  },
  "language_info": {
   "codemirror_mode": {
    "name": "ipython",
    "version": 3
   },
   "file_extension": ".py",
   "mimetype": "text/x-python",
   "name": "python",
   "nbconvert_exporter": "python",
   "pygments_lexer": "ipython3",
   "version": "3.8.19"
  }
 },
 "nbformat": 4,
 "nbformat_minor": 2
}
