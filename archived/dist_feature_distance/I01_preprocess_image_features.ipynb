{
 "cells": [
  {
   "cell_type": "code",
   "execution_count": 40,
   "metadata": {},
   "outputs": [
    {
     "name": "stderr",
     "output_type": "stream",
     "text": [
      "100%|██████████| 7/7 [19:38<00:00, 168.31s/it]\n"
     ]
    }
   ],
   "source": [
    "import numpy as np\n",
    "import pandas as pd\n",
    "import matplotlib.pyplot as plt\n",
    "import seaborn as sns\n",
    "import os\n",
    "import pathlib\n",
    "from tqdm import tqdm\n",
    "\n",
    "maindir = \"/Users/hieunguyen/data/WGS_features\"\n",
    "outdir = \"/Users/hieunguyen/data/outdir\"\n",
    "PROJECT = \"WGS_feature_dist_distance\"\n",
    "output_version = \"20240906\"\n",
    "data_version = \"20240807\"\n",
    "path_to_main_output = os.path.join(outdir, PROJECT, output_version)\n",
    "path_to_01_output = os.path.join(path_to_main_output, \"I01_output\")\n",
    "os.makedirs(path_to_01_output, exist_ok = True)\n",
    "\n",
    "path_to_metadata = \"/Users/hieunguyen/data/metadata/metadata_nonBS.csv\"\n",
    "metadata = pd.read_csv(path_to_metadata)\n",
    "\n",
    "path_to_main_input = os.path.join(\"/Users/hieunguyen/data/WGS_image_features\", data_version)\n",
    "\n",
    "all_features = [\"EM_FLEN\", \"EM_forwardNUC\", \"EM_reverseNUC\", \"FLEN_NUC\", \"pairEM\", \"pairEM.short\", \"pairEM.long\"]\n",
    "\n",
    "for feature_name in tqdm(all_features):\n",
    "    all_files = [item for item in pathlib.Path(os.path.join(path_to_main_input)).glob(\"*{}*.csv\".format(feature_name))]\n",
    "    maindf = pd.DataFrame()\n",
    "    for file in all_files:\n",
    "        tmpdf = pd.read_csv(file)\n",
    "        first_col = tmpdf.columns[0]\n",
    "        if \"FLEN\" in feature_name:\n",
    "            tmpdf = tmpdf[(tmpdf[\"flen\"] >= 80) & (tmpdf[\"flen\"] <= 250)]\n",
    "        tmpdf = pd.DataFrame(data = tmpdf.set_index(first_col).to_numpy().flatten(), columns = [file.name.split(\"_\")[0].split(\"-\")[1]])\n",
    "        maindf = pd.concat([maindf, tmpdf], axis = 1)\n",
    "    maindf.to_csv(os.path.join(path_to_01_output, \"{}.csv\".format(feature_name)))\n"
   ]
  }
 ],
 "metadata": {
  "kernelspec": {
   "display_name": "pytorch",
   "language": "python",
   "name": "python3"
  },
  "language_info": {
   "codemirror_mode": {
    "name": "ipython",
    "version": 3
   },
   "file_extension": ".py",
   "mimetype": "text/x-python",
   "name": "python",
   "nbconvert_exporter": "python",
   "pygments_lexer": "ipython3",
   "version": "3.8.19"
  }
 },
 "nbformat": 4,
 "nbformat_minor": 2
}
