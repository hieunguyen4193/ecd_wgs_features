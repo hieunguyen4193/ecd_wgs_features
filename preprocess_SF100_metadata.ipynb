{
 "cells": [
  {
   "cell_type": "code",
   "execution_count": 5,
   "metadata": {},
   "outputs": [],
   "source": [
    "import pandas as pd\n",
    "sf100df = pd.read_csv(\"SampleSheet.SF100.csv\")\n",
    "sf100df[\"SampleID\"] = sf100df[\"path_to_bam_file\"].apply(lambda x: x.split(\"/\")[-1].split(\".sorted.bam\")[0])\n",
    "\n",
    "sf100df[[\"SampleID\", \"path_to_bam_file\"]].to_csv(\"SampleSheet_to_run.SF100.csv\", index=False)"
   ]
  },
  {
   "cell_type": "code",
   "execution_count": 7,
   "metadata": {},
   "outputs": [],
   "source": []
  },
  {
   "cell_type": "markdown",
   "metadata": {},
   "source": []
  }
 ],
 "metadata": {
  "kernelspec": {
   "display_name": "pytorch",
   "language": "python",
   "name": "python3"
  },
  "language_info": {
   "codemirror_mode": {
    "name": "ipython",
    "version": 3
   },
   "file_extension": ".py",
   "mimetype": "text/x-python",
   "name": "python",
   "nbconvert_exporter": "python",
   "pygments_lexer": "ipython3",
   "version": "3.8.19"
  }
 },
 "nbformat": 4,
 "nbformat_minor": 2
}
