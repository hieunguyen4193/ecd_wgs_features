{
 "cells": [
  {
   "cell_type": "markdown",
   "metadata": {},
   "source": [
    "# Introduction\n"
   ]
  },
  {
   "cell_type": "markdown",
   "metadata": {},
   "source": [
    "Use this notebook as a `changelog` notebook for setting `REFERENCE` feature-set in measuring feature **drifts**. \n",
    "\n",
    "The first version is `20240925`. In this version, we use all `training` data feature as **reference**. "
   ]
  },
  {
   "cell_type": "code",
   "execution_count": 1,
   "metadata": {},
   "outputs": [],
   "source": [
    "import numpy as np\n",
    "import pandas as pd\n",
    "import matplotlib.pyplot as plt\n",
    "import seaborn as sns\n",
    "import os\n",
    "import pathlib\n",
    "from tqdm import tqdm\n",
    "from feature_class import *\n",
    "\n",
    "data_version = \"20240924\"\n",
    "reference_version = \"20240925\"\n",
    "\n",
    "path_to_feature_dir = f\"/Users/hieunguyen/data/WGS_features/{data_version}/feature\"\n",
    "path_to_metadata = f\"/Users/hieunguyen/data/WGS_features/{data_version}/metadata/metadata_nonBS_200924.xlsx\"\n",
    "\n",
    "path_to_save_output = \"feature_drift_reference/OT\"\n",
    "os.system(f\"mkdir -p {path_to_save_output}\")\n",
    "\n",
    "obj = WGS_GW_features(path_to_feature_dir=path_to_feature_dir,\n",
    "                      path_to_metadata=path_to_metadata)\n"
   ]
  }
 ],
 "metadata": {
  "kernelspec": {
   "display_name": "pytorch",
   "language": "python",
   "name": "python3"
  },
  "language_info": {
   "codemirror_mode": {
    "name": "ipython",
    "version": 3
   },
   "file_extension": ".py",
   "mimetype": "text/x-python",
   "name": "python",
   "nbconvert_exporter": "python",
   "pygments_lexer": "ipython3",
   "version": "3.8.19"
  }
 },
 "nbformat": 4,
 "nbformat_minor": 2
}
