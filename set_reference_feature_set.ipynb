{
 "cells": [
  {
   "cell_type": "markdown",
   "metadata": {},
   "source": [
    "# Introduction\n"
   ]
  },
  {
   "cell_type": "markdown",
   "metadata": {},
   "source": [
    "Use this notebook as a `changelog` notebook for setting `REFERENCE` feature-set in measuring feature **drifts**. \n",
    "\n",
    "The first version is `20240925`. In this version, we use all `training` data feature as **reference**. "
   ]
  },
  {
   "cell_type": "markdown",
   "metadata": {},
   "source": [
    "## Version 20240925, optimal transport distance."
   ]
  },
  {
   "cell_type": "code",
   "execution_count": null,
   "metadata": {},
   "outputs": [],
   "source": [
    "import numpy as np\n",
    "import pandas as pd\n",
    "import matplotlib.pyplot as plt\n",
    "import seaborn as sns\n",
    "import os\n",
    "import pathlib\n",
    "from tqdm import tqdm\n",
    "from feature_class import *\n",
    "from helper_functions import *\n",
    "\n",
    "data_version = \"20240924\"\n",
    "reference_version = \"20240925\"\n",
    "\n",
    "path_to_feature_dir = f\"/Users/hieunguyen/data/WGS_features/{data_version}/feature\"\n",
    "path_to_metadata = f\"/Users/hieunguyen/data/WGS_features/{data_version}/metadata/metadata_nonBS_200924.xlsx\"\n",
    "\n",
    "path_to_save_output = f\"feature_drift_reference/OT/{reference_version}\"\n",
    "os.system(f\"mkdir -p {path_to_save_output}\")\n",
    "\n",
    "if os.path.exists(f\"{path_to_save_output}/status.csv\"):\n",
    "    print(f\"Reference version {reference_version} has been generated\")\n",
    "    exit()\n",
    "else:\n",
    "    obj = WGS_GW_features(path_to_feature_dir=path_to_feature_dir,\n",
    "                        path_to_metadata=path_to_metadata)\n",
    "\n",
    "    metadata = obj.metadata.copy()\n",
    "    ##### keep only healthy control samples\n",
    "    ref_metadata = metadata[(metadata[\"RUN_metadata train\"] == 1) & (metadata[\"Label\"] == \"Control\")]\n",
    "\n",
    "    ref_metadata[[\"SampleID\", \"Run\", \"RUN_metadata train\"]].to_csv(f\"{path_to_save_output}/reference_samples.csv\", index=False)\n",
    "    ref_samples = ref_metadata[\"SampleID\"].unique()\n",
    "\n",
    "    print(f\"There are {ref_metadata.shape[0]} reference samples in this version\")\n",
    "\n",
    "    flendf = obj.generate_flen_matrix()\n",
    "    emdf = obj.generate_em_matrix()\n",
    "    nucdf = obj.generate_nuc_matrix()\n",
    "\n",
    "    ref_flendf = flendf[ref_samples].copy()\n",
    "    ref_emdf = emdf[ref_samples].copy()\n",
    "    ref_nucdf = nucdf[ref_samples].copy()\n",
    "\n",
    "    flen_barycenter = calculate_barycenter(A = ref_flendf.to_numpy(), n = ref_flendf.shape[0])\n",
    "    em_barycenter = calculate_barycenter(A = ref_emdf.to_numpy(), n = ref_emdf.shape[0])\n",
    "    nuc_barycenter = calculate_barycenter(A = ref_nucdf.to_numpy(), n = ref_nucdf.shape[0])\n",
    "\n",
    "    pd.DataFrame(data = flen_barycenter, columns = [\"flen_barycenter\"]).to_csv(f\"{path_to_save_output}/flen_barycenter.csv\", index=False)   \n",
    "    pd.DataFrame(data = em_barycenter, columns = [\"em_barycenter\"]).to_csv(f\"{path_to_save_output}/em_barycenter.csv\", index=False)   \n",
    "    pd.DataFrame(data = nuc_barycenter, columns = [\"nuc_barycenter\"]).to_csv(f\"{path_to_save_output}/nuc_barycenter.csv\", index=False)   \n",
    "\n",
    "    pd.DataFrame(data = [f\"finished_generated_data_ref_version_{reference_version}\"],\n",
    "                columns=[\"status\"]).to_csv(f\"{path_to_save_output}/status.csv\", index=False)"
   ]
  },
  {
   "cell_type": "markdown",
   "metadata": {},
   "source": []
  }
 ],
 "metadata": {
  "kernelspec": {
   "display_name": "pytorch",
   "language": "python",
   "name": "python3"
  },
  "language_info": {
   "codemirror_mode": {
    "name": "ipython",
    "version": 3
   },
   "file_extension": ".py",
   "mimetype": "text/x-python",
   "name": "python",
   "nbconvert_exporter": "python",
   "pygments_lexer": "ipython3",
   "version": "3.8.19"
  }
 },
 "nbformat": 4,
 "nbformat_minor": 2
}
