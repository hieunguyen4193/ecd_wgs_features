{
 "cells": [
  {
   "cell_type": "code",
   "execution_count": 1,
   "metadata": {},
   "outputs": [
    {
     "name": "stderr",
     "output_type": "stream",
     "text": [
      "100%|██████████| 1878/1878 [00:08<00:00, 233.24it/s]\n",
      "100%|██████████| 1490/1490 [00:16<00:00, 91.55it/s]\n",
      "100%|██████████| 1878/1878 [00:08<00:00, 229.03it/s]\n"
     ]
    }
   ],
   "source": [
    "import pandas as pd \n",
    "import numpy as np \n",
    "import os \n",
    "import pathlib \n",
    "from tqdm import tqdm\n",
    "\n",
    "maindir = \"/Users/hieunguyen/data/WGS_features/20240929\"\n",
    "path_to_feature = os.path.join(maindir, \"feature\")\n",
    "path_to_metadata = os.path.join(maindir, \"metadata\", \"metadata.xlsx\")\n",
    "\n",
    "##### read feature end motif to check\n",
    "if os.path.isfile(\"em.old.csv\") == False:\n",
    "    feat = \"EM\"\n",
    "    maindf = pd.DataFrame(\n",
    "        data = [f\"{i}{j}{k}{l}\"\n",
    "                for i in [\"A\", \"T\", \"G\", \"C\"]\n",
    "                for j in [\"A\", \"T\", \"G\", \"C\"]\n",
    "                for k in [\"A\", \"T\", \"G\", \"C\"]\n",
    "                for l in [\"A\", \"T\", \"G\", \"C\"]],\n",
    "        columns = [\"motif\"]\n",
    "    )\n",
    "    all_files = [item for item in pathlib.Path(os.path.join(path_to_feature)).glob(f\"*/*GWfeature_{feat}.csv\")]\n",
    "    for file in tqdm(all_files):\n",
    "        sampleid = file.name.split(\"_\")[0]\n",
    "        tmpdf = pd.read_csv(file, index_col = [0])\n",
    "        tmpdf.columns = [\"motif\", sampleid]\n",
    "        maindf = maindf.merge(tmpdf, right_on = \"motif\", left_on = \"motif\")\n",
    "        \n",
    "    emdf = maindf[[\"motif\", \"1-ZLAAO90NB\"]]\n",
    "    emdf.columns =  [\"feat\", \"ZLAAO90NB\"]\n",
    "    emdf.to_csv(\"em.old.csv\")\n",
    "else:\n",
    "    emdf = pd.read_csv(\"em.old.csv\", index_col = [0])\n",
    "\n",
    "##### read feature nucleosome to check\n",
    "if os.path.isfile(\"nuc.old.csv\") == False:\n",
    "    feat = \"Nucleosome\"\n",
    "    maindf = pd.DataFrame(\n",
    "        data = range(-300, 301),\n",
    "        columns = [\"size\"]\n",
    "    )\n",
    "    maindf[\"size\"] = maindf[\"size\"].astype(int)\n",
    "    all_files = [item for item in pathlib.Path(os.path.join(path_to_feature)).glob(f\"*/*GWfeature_{feat}.csv\")]\n",
    "    for file in tqdm(all_files):\n",
    "        sampleid = file.name.split(\"_\")[0]\n",
    "        tmpdf = pd.read_csv(file, index_col = [0])\n",
    "        tmpdf = tmpdf.T.reset_index()\n",
    "        tmpdf.columns = [\"size\", sampleid]\n",
    "        tmpdf[\"size\"] = tmpdf[\"size\"].astype(int)\n",
    "        maindf = maindf.merge(tmpdf, right_on = \"size\", left_on = \"size\")\n",
    "        \n",
    "    nucdf = maindf[[\"size\", \"1-ZLAAO90NB\"]]\n",
    "    nucdf.columns =  [\"feat\", \"ZLAAO90NB\"]\n",
    "    nucdf.to_csv(\"nuc.old.csv\")\n",
    "else:\n",
    "    nucdf = pd.read_csv(\"nuc.old.csv\", index_col = [0])\n",
    "    \n",
    "feat = \"flen\"\n",
    "if os.path.isfile(\"flen.old.csv\") == False:\n",
    "    maindf = pd.DataFrame(data = range(50, 351), columns = [\"size\"])\n",
    "    maindf[\"size\"] = maindf[\"size\"].astype(int)\n",
    "    all_files = [item for item in pathlib.Path(os.path.join(path_to_feature)).glob(f\"*/*GWfeature_{feat}.csv\")]\n",
    "    for file in tqdm(all_files):\n",
    "            sampleid = file.name.split(\"_\")[0]\n",
    "            tmpdf = pd.read_csv(file, index_col = [0])[[\"size\", \"freq\"]]\n",
    "            tmpdf.columns = [\"size\", sampleid]\n",
    "            maindf = maindf.merge(tmpdf, right_on = \"size\", left_on = \"size\")\n",
    "    flendf = maindf[[\"size\", \"1-ZLAAO90NB\"]]\n",
    "    flendf.columns = [\"feat\", \"ZLAAO90NB\"]\n",
    "    flendf.to_csv(\"flen.old.csv\")\n",
    "else:\n",
    "    flendf = pd.read_csv(\"flen.old.csv\", index_col = [0])"
   ]
  },
  {
   "cell_type": "code",
   "execution_count": 8,
   "metadata": {},
   "outputs": [],
   "source": [
    "import pandas as pd\n",
    "\n",
    "df = pd.read_csv(\"NDR_cancer_specific_location_5common.csv\", sep = \"\\t\", header = None)\n",
    "df[3] = df[3].apply(lambda x: x.replace(\" \", \"-\"))\n",
    "df.to_csv(\"NDR_cancer_specific_location_5common.HNmodified.csv\", sep = \"\\t\", header = False, index = False)"
   ]
  },
  {
   "cell_type": "code",
   "execution_count": 1,
   "metadata": {},
   "outputs": [],
   "source": [
    "import pandas as pd \n",
    "\n",
    "df = pd.read_csv(\"/media/hieunguyen/HNSD01/src/ecd_wgs_features/batch_test/WGShg19/WGShg19.final_output.tsv\", sep = \"\\t\", header = None)"
   ]
  },
  {
   "cell_type": "code",
   "execution_count": null,
   "metadata": {},
   "outputs": [],
   "source": []
  }
 ],
 "metadata": {
  "kernelspec": {
   "display_name": "pytorch",
   "language": "python",
   "name": "python3"
  },
  "language_info": {
   "codemirror_mode": {
    "name": "ipython",
    "version": 3
   },
   "file_extension": ".py",
   "mimetype": "text/x-python",
   "name": "python",
   "nbconvert_exporter": "python",
   "pygments_lexer": "ipython3",
   "version": "3.9.19"
  }
 },
 "nbformat": 4,
 "nbformat_minor": 2
}
