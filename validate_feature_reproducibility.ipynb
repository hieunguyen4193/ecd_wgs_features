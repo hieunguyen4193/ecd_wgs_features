{
 "cells": [
  {
   "cell_type": "code",
   "execution_count": 1,
   "metadata": {},
   "outputs": [],
   "source": [
    "import pandas as pd \n",
    "import numpy as np \n",
    "import os \n",
    "import pathlib \n",
    "from tqdm import tqdm\n",
    "\n",
    "maindir = \"/Users/hieunguyen/data/WGS_features/20240929\"\n",
    "path_to_feature = os.path.join(maindir, \"feature\")\n",
    "path_to_metadata = os.path.join(maindir, \"metadata\", \"metadata.xlsx\")\n",
    "\n",
    "##### read feature end motif to check\n",
    "if os.path.isfile(\"em.old.csv\") == False:\n",
    "    feat = \"EM\"\n",
    "    maindf = pd.DataFrame(\n",
    "        data = [f\"{i}{j}{k}{l}\"\n",
    "                for i in [\"A\", \"T\", \"G\", \"C\"]\n",
    "                for j in [\"A\", \"T\", \"G\", \"C\"]\n",
    "                for k in [\"A\", \"T\", \"G\", \"C\"]\n",
    "                for l in [\"A\", \"T\", \"G\", \"C\"]],\n",
    "        columns = [\"motif\"]\n",
    "    )\n",
    "    all_files = [item for item in pathlib.Path(os.path.join(path_to_feature)).glob(f\"*/*GWfeature_{feat}.csv\")]\n",
    "    for file in tqdm(all_files):\n",
    "        sampleid = file.name.split(\"_\")[0]\n",
    "        tmpdf = pd.read_csv(file, index_col = [0])\n",
    "        tmpdf.columns = [\"motif\", sampleid]\n",
    "        maindf = maindf.merge(tmpdf, right_on = \"motif\", left_on = \"motif\")\n",
    "        \n",
    "    emdf = maindf[[\"motif\", \"1-ZLAAO90NB\"]]\n",
    "    emdf.to_csv(\"em.old.csv\")\n",
    "else:\n",
    "    emdf = pd.read_csv(\"em.old.csv\", index_col = [0])\n",
    "\n",
    "##### read feature nucleosome to check\n",
    "if os.path.isfile(\"nuc.old.csv\") == False:\n",
    "    feat = \"Nucleosome\"\n",
    "    maindf = pd.DataFrame(\n",
    "        data = range(-300, 301),\n",
    "        columns = [\"size\"]\n",
    "    )\n",
    "    maindf[\"size\"] = maindf[\"size\"].astype(int)\n",
    "    all_files = [item for item in pathlib.Path(os.path.join(path_to_feature)).glob(f\"*/*GWfeature_{feat}.csv\")]\n",
    "    for file in tqdm(all_files):\n",
    "        sampleid = file.name.split(\"_\")[0]\n",
    "        tmpdf = pd.read_csv(file, index_col = [0])\n",
    "        tmpdf = tmpdf.T.reset_index()\n",
    "        tmpdf.columns = [\"size\", sampleid]\n",
    "        tmpdf[\"size\"] = tmpdf[\"size\"].astype(int)\n",
    "        maindf = maindf.merge(tmpdf, right_on = \"size\", left_on = \"size\")\n",
    "        \n",
    "    nucdf = maindf[[\"size\", \"1-ZLAAO90NB\"]]\n",
    "    nucdf.to_csv(\"nuc.old.csv\")\n",
    "else:\n",
    "    nucdf = pd.read_csv(\"nuc.old.csv\", index_col = [0])"
   ]
  },
  {
   "cell_type": "code",
   "execution_count": 54,
   "metadata": {},
   "outputs": [
    {
     "name": "stdout",
     "output_type": "stream",
     "text": [
      "(22603721, 1)\n",
      "(22603659, 1)\n"
     ]
    }
   ],
   "source": [
    "emdf_check = pd.read_csv(\"./output_debug/1-ZLAAO90NB_S7509-S7709.sorted.full_endmotif4bp.sorted.txt\", sep=\"\\t\", header = None)[[1]]\n",
    "print(emdf_check.shape)\n",
    "emdf_check.columns =  [\"motif\"]\n",
    "emdf_check[\"motif\"] = emdf_check[\"motif\"].apply(lambda x: x.upper())\n",
    "emdf_check_raw = emdf_check.copy()\n",
    "emdf_check = emdf_check[emdf_check[\"motif\"].str.contains(\"N\") == False]\n",
    "\n",
    "print(emdf_check.shape)\n",
    "emdf_check = emdf_check.reset_index().groupby(\"motif\")[\"index\"].count().reset_index()\n",
    "emdf_check[\"index\"] = emdf_check[\"index\"].apply(lambda x: x/emdf_check[\"index\"].sum())\n",
    "checkdf = emdf.merge(emdf_check, right_on = \"motif\", left_on = \"motif\")"
   ]
  },
  {
   "cell_type": "code",
   "execution_count": 55,
   "metadata": {},
   "outputs": [
    {
     "name": "stdout",
     "output_type": "stream",
     "text": [
      "(11301997, 1)\n",
      "(11301724, 1)\n",
      "22603721\n",
      "22603627\n"
     ]
    }
   ],
   "source": [
    "dffinal = pd.read_csv(\"./output_debug/1-ZLAAO90NB_S7509-S7709.sorted.final_output.tsv\", sep = \"\\t\", header = None)\n",
    "\n",
    "emdf_check1 = dffinal[(dffinal[5] >= 30) & (dffinal[3] > 0)][[8]]\n",
    "emdf_check1.columns = [\"motif\"]\n",
    "print(emdf_check1.shape)\n",
    "emdf_check2 = dffinal[(dffinal[5] >= 30) & (dffinal[3] < 0)][[9]]\n",
    "emdf_check2.columns = [\"motif\"]\n",
    "print(emdf_check2.shape)\n",
    "\n",
    "emdf_check_from_final = pd.concat([emdf_check1, emdf_check2], axis = 0)\n",
    "print(emdf_check_from_final.shape[0])\n",
    "\n",
    "emdf_check_from_final[\"motif\"] = emdf_check_from_final[\"motif\"].apply(lambda x: x.upper())\n",
    "emdf_check_from_final_raw = emdf_check_from_final.copy()\n",
    "\n",
    "emdf_check_from_final = emdf_check_from_final[emdf_check_from_final[\"motif\"].str.contains(\"N\") == False]\n",
    "print(emdf_check_from_final.shape[0])\n",
    "\n",
    "\n",
    "emdf_check_from_final = emdf_check_from_final.reset_index().groupby(\"motif\")[\"index\"].count().reset_index()\n",
    "emdf_check_from_final[\"index\"] = emdf_check_from_final[\"index\"].apply(lambda x: x/emdf_check_from_final[\"index\"].sum())\n",
    "checkdf2 = emdf.merge(emdf_check_from_final, right_on = \"motif\", left_on = \"motif\")\n",
    "assert checkdf.shape[0] == 256\n",
    "\n"
   ]
  },
  {
   "cell_type": "code",
   "execution_count": 50,
   "metadata": {},
   "outputs": [
    {
     "data": {
      "text/plain": [
       "(22603659, 1)"
      ]
     },
     "execution_count": 50,
     "metadata": {},
     "output_type": "execute_result"
    }
   ],
   "source": [
    "emdf_check_raw.shape"
   ]
  },
  {
   "cell_type": "code",
   "execution_count": 51,
   "metadata": {},
   "outputs": [
    {
     "data": {
      "text/plain": [
       "(22603627, 1)"
      ]
     },
     "execution_count": 51,
     "metadata": {},
     "output_type": "execute_result"
    }
   ],
   "source": [
    "emdf_check_from_final_raw.shape"
   ]
  },
  {
   "cell_type": "code",
   "execution_count": 52,
   "metadata": {},
   "outputs": [
    {
     "data": {
      "text/plain": [
       "22603721"
      ]
     },
     "execution_count": 52,
     "metadata": {},
     "output_type": "execute_result"
    }
   ],
   "source": [
    "emdf_check1.shape[0] + emdf_check2.shape[0]"
   ]
  },
  {
   "cell_type": "code",
   "execution_count": 53,
   "metadata": {},
   "outputs": [
    {
     "data": {
      "text/plain": [
       "(25002570, 10)"
      ]
     },
     "execution_count": 53,
     "metadata": {},
     "output_type": "execute_result"
    }
   ],
   "source": [
    "dffinal.shape"
   ]
  },
  {
   "cell_type": "code",
   "execution_count": 18,
   "metadata": {},
   "outputs": [
    {
     "name": "stderr",
     "output_type": "stream",
     "text": [
      "/var/folders/8j/g55jqp3s7mj16s_gvcwb4y800000gn/T/ipykernel_90508/815774130.py:1: DtypeWarning: Columns (2) have mixed types. Specify dtype option on import or set low_memory=False.\n",
      "  dfnuc_new = pd.read_csv(\"./output_debug/1-ZLAAO90NB_S7509-S7709.sorted.full_Nucleosome.dist.final.bed\", sep = \"\\t\", header = None)\n"
     ]
    },
    {
     "data": {
      "text/plain": [
       "<Axes: xlabel='size'>"
      ]
     },
     "execution_count": 18,
     "metadata": {},
     "output_type": "execute_result"
    },
    {
     "data": {
      "image/png": "[encoded data removed]",
      "text/plain": [
       "<Figure size 640x480 with 1 Axes>"
      ]
     },
     "metadata": {},
     "output_type": "display_data"
    }
   ],
   "source": [
    "dfnuc_new = pd.read_csv(\"./output_debug/1-ZLAAO90NB_S7509-S7709.sorted.full_Nucleosome.dist.final.bed\", sep = \"\\t\", header = None)\n",
    "dfnuc_new = dfnuc_new[(dfnuc_new[3] >= -300) & (dfnuc_new[3] <= 300)]\n",
    "dfnuc_new = dfnuc_new.groupby(3)[0].count().reset_index()\n",
    "dfnuc_new.columns = [\"size\", \"check\"]\n",
    "dfnuc_new[\"check\"] = dfnuc_new[\"check\"].apply(lambda x: x/dfnuc_new[\"check\"].sum())\n",
    "checknucdf = nucdf.merge(dfnuc_new, right_on = \"size\", left_on = \"size\")\n",
    "checknucdf.set_index(\"size\").plot()"
   ]
  }
 ],
 "metadata": {
  "kernelspec": {
   "display_name": "pytorch",
   "language": "python",
   "name": "python3"
  },
  "language_info": {
   "codemirror_mode": {
    "name": "ipython",
    "version": 3
   },
   "file_extension": ".py",
   "mimetype": "text/x-python",
   "name": "python",
   "nbconvert_exporter": "python",
   "pygments_lexer": "ipython3",
   "version": "3.8.19"
  }
 },
 "nbformat": 4,
 "nbformat_minor": 2
}
