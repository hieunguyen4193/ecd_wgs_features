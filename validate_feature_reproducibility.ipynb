{
 "cells": [
  {
   "cell_type": "code",
   "execution_count": 24,
   "metadata": {},
   "outputs": [
    {
     "name": "stderr",
     "output_type": "stream",
     "text": [
      "100%|██████████| 1878/1878 [00:11<00:00, 167.33it/s]\n"
     ]
    },
    {
     "ename": "KeyError",
     "evalue": "\"['ZLAAO90NB'] not in index\"",
     "output_type": "error",
     "traceback": [
      "\u001b[0;31m---------------------------------------------------------------------------\u001b[0m",
      "\u001b[0;31mKeyError\u001b[0m                                  Traceback (most recent call last)",
      "Cell \u001b[0;32mIn[24], line 29\u001b[0m\n\u001b[1;32m     26\u001b[0m         tmpdf\u001b[38;5;241m.\u001b[39mcolumns \u001b[38;5;241m=\u001b[39m [\u001b[38;5;124m\"\u001b[39m\u001b[38;5;124mmotif\u001b[39m\u001b[38;5;124m\"\u001b[39m, sampleid]\n\u001b[1;32m     27\u001b[0m         maindf \u001b[38;5;241m=\u001b[39m maindf\u001b[38;5;241m.\u001b[39mmerge(tmpdf, right_on \u001b[38;5;241m=\u001b[39m \u001b[38;5;124m\"\u001b[39m\u001b[38;5;124mmotif\u001b[39m\u001b[38;5;124m\"\u001b[39m, left_on \u001b[38;5;241m=\u001b[39m \u001b[38;5;124m\"\u001b[39m\u001b[38;5;124mmotif\u001b[39m\u001b[38;5;124m\"\u001b[39m)\n\u001b[0;32m---> 29\u001b[0m     emdf \u001b[38;5;241m=\u001b[39m \u001b[43mmaindf\u001b[49m\u001b[43m[\u001b[49m\u001b[43m[\u001b[49m\u001b[38;5;124;43m\"\u001b[39;49m\u001b[38;5;124;43mmotif\u001b[39;49m\u001b[38;5;124;43m\"\u001b[39;49m\u001b[43m,\u001b[49m\u001b[43m \u001b[49m\u001b[38;5;124;43m\"\u001b[39;49m\u001b[38;5;124;43mZLAAO90NB\u001b[39;49m\u001b[38;5;124;43m\"\u001b[39;49m\u001b[43m]\u001b[49m\u001b[43m]\u001b[49m\n\u001b[1;32m     30\u001b[0m     emdf\u001b[38;5;241m.\u001b[39mto_csv(\u001b[38;5;124m\"\u001b[39m\u001b[38;5;124mem.old.csv\u001b[39m\u001b[38;5;124m\"\u001b[39m)\n\u001b[1;32m     31\u001b[0m \u001b[38;5;28;01melse\u001b[39;00m:\n",
      "File \u001b[0;32m~/miniconda3/envs/pytorch/lib/python3.8/site-packages/pandas/core/frame.py:3767\u001b[0m, in \u001b[0;36mDataFrame.__getitem__\u001b[0;34m(self, key)\u001b[0m\n\u001b[1;32m   3765\u001b[0m     \u001b[38;5;28;01mif\u001b[39;00m is_iterator(key):\n\u001b[1;32m   3766\u001b[0m         key \u001b[38;5;241m=\u001b[39m \u001b[38;5;28mlist\u001b[39m(key)\n\u001b[0;32m-> 3767\u001b[0m     indexer \u001b[38;5;241m=\u001b[39m \u001b[38;5;28;43mself\u001b[39;49m\u001b[38;5;241;43m.\u001b[39;49m\u001b[43mcolumns\u001b[49m\u001b[38;5;241;43m.\u001b[39;49m\u001b[43m_get_indexer_strict\u001b[49m\u001b[43m(\u001b[49m\u001b[43mkey\u001b[49m\u001b[43m,\u001b[49m\u001b[43m \u001b[49m\u001b[38;5;124;43m\"\u001b[39;49m\u001b[38;5;124;43mcolumns\u001b[39;49m\u001b[38;5;124;43m\"\u001b[39;49m\u001b[43m)\u001b[49m[\u001b[38;5;241m1\u001b[39m]\n\u001b[1;32m   3769\u001b[0m \u001b[38;5;66;03m# take() does not accept boolean indexers\u001b[39;00m\n\u001b[1;32m   3770\u001b[0m \u001b[38;5;28;01mif\u001b[39;00m \u001b[38;5;28mgetattr\u001b[39m(indexer, \u001b[38;5;124m\"\u001b[39m\u001b[38;5;124mdtype\u001b[39m\u001b[38;5;124m\"\u001b[39m, \u001b[38;5;28;01mNone\u001b[39;00m) \u001b[38;5;241m==\u001b[39m \u001b[38;5;28mbool\u001b[39m:\n",
      "File \u001b[0;32m~/miniconda3/envs/pytorch/lib/python3.8/site-packages/pandas/core/indexes/base.py:5877\u001b[0m, in \u001b[0;36mIndex._get_indexer_strict\u001b[0;34m(self, key, axis_name)\u001b[0m\n\u001b[1;32m   5874\u001b[0m \u001b[38;5;28;01melse\u001b[39;00m:\n\u001b[1;32m   5875\u001b[0m     keyarr, indexer, new_indexer \u001b[38;5;241m=\u001b[39m \u001b[38;5;28mself\u001b[39m\u001b[38;5;241m.\u001b[39m_reindex_non_unique(keyarr)\n\u001b[0;32m-> 5877\u001b[0m \u001b[38;5;28;43mself\u001b[39;49m\u001b[38;5;241;43m.\u001b[39;49m\u001b[43m_raise_if_missing\u001b[49m\u001b[43m(\u001b[49m\u001b[43mkeyarr\u001b[49m\u001b[43m,\u001b[49m\u001b[43m \u001b[49m\u001b[43mindexer\u001b[49m\u001b[43m,\u001b[49m\u001b[43m \u001b[49m\u001b[43maxis_name\u001b[49m\u001b[43m)\u001b[49m\n\u001b[1;32m   5879\u001b[0m keyarr \u001b[38;5;241m=\u001b[39m \u001b[38;5;28mself\u001b[39m\u001b[38;5;241m.\u001b[39mtake(indexer)\n\u001b[1;32m   5880\u001b[0m \u001b[38;5;28;01mif\u001b[39;00m \u001b[38;5;28misinstance\u001b[39m(key, Index):\n\u001b[1;32m   5881\u001b[0m     \u001b[38;5;66;03m# GH 42790 - Preserve name from an Index\u001b[39;00m\n",
      "File \u001b[0;32m~/miniconda3/envs/pytorch/lib/python3.8/site-packages/pandas/core/indexes/base.py:5941\u001b[0m, in \u001b[0;36mIndex._raise_if_missing\u001b[0;34m(self, key, indexer, axis_name)\u001b[0m\n\u001b[1;32m   5938\u001b[0m     \u001b[38;5;28;01mraise\u001b[39;00m \u001b[38;5;167;01mKeyError\u001b[39;00m(\u001b[38;5;124mf\u001b[39m\u001b[38;5;124m\"\u001b[39m\u001b[38;5;124mNone of [\u001b[39m\u001b[38;5;132;01m{\u001b[39;00mkey\u001b[38;5;132;01m}\u001b[39;00m\u001b[38;5;124m] are in the [\u001b[39m\u001b[38;5;132;01m{\u001b[39;00maxis_name\u001b[38;5;132;01m}\u001b[39;00m\u001b[38;5;124m]\u001b[39m\u001b[38;5;124m\"\u001b[39m)\n\u001b[1;32m   5940\u001b[0m not_found \u001b[38;5;241m=\u001b[39m \u001b[38;5;28mlist\u001b[39m(ensure_index(key)[missing_mask\u001b[38;5;241m.\u001b[39mnonzero()[\u001b[38;5;241m0\u001b[39m]]\u001b[38;5;241m.\u001b[39munique())\n\u001b[0;32m-> 5941\u001b[0m \u001b[38;5;28;01mraise\u001b[39;00m \u001b[38;5;167;01mKeyError\u001b[39;00m(\u001b[38;5;124mf\u001b[39m\u001b[38;5;124m\"\u001b[39m\u001b[38;5;132;01m{\u001b[39;00mnot_found\u001b[38;5;132;01m}\u001b[39;00m\u001b[38;5;124m not in index\u001b[39m\u001b[38;5;124m\"\u001b[39m)\n",
      "\u001b[0;31mKeyError\u001b[0m: \"['ZLAAO90NB'] not in index\""
     ]
    }
   ],
   "source": [
    "import pandas as pd \n",
    "import numpy as np \n",
    "import os \n",
    "import pathlib \n",
    "from tqdm import tqdm\n",
    "\n",
    "maindir = \"/Users/hieunguyen/data/WGS_features/20240929\"\n",
    "path_to_feature = os.path.join(maindir, \"feature\")\n",
    "path_to_metadata = os.path.join(maindir, \"metadata\", \"metadata.xlsx\")\n",
    "\n",
    "##### read feature end motif to check\n",
    "if os.path.isfile(\"em.old.csv\") == False:\n",
    "    feat = \"EM\"\n",
    "    maindf = pd.DataFrame(\n",
    "        data = [f\"{i}{j}{k}{l}\"\n",
    "                for i in [\"A\", \"T\", \"G\", \"C\"]\n",
    "                for j in [\"A\", \"T\", \"G\", \"C\"]\n",
    "                for k in [\"A\", \"T\", \"G\", \"C\"]\n",
    "                for l in [\"A\", \"T\", \"G\", \"C\"]],\n",
    "        columns = [\"motif\"]\n",
    "    )\n",
    "    all_files = [item for item in pathlib.Path(os.path.join(path_to_feature)).glob(f\"*/*GWfeature_{feat}.csv\")]\n",
    "    for file in tqdm(all_files):\n",
    "        sampleid = file.name.split(\"_\")[0]\n",
    "        tmpdf = pd.read_csv(file, index_col = [0])\n",
    "        tmpdf.columns = [\"motif\", sampleid]\n",
    "        maindf = maindf.merge(tmpdf, right_on = \"motif\", left_on = \"motif\")\n",
    "        \n",
    "    emdf = maindf[[\"motif\", \"1-ZLAAO90NB\"]]\n",
    "    emdf.columns =  [\"size\", \"ZLAAO90NB\"]\n",
    "    emdf.to_csv(\"em.old.csv\")\n",
    "else:\n",
    "    emdf = pd.read_csv(\"em.old.csv\", index_col = [0])\n",
    "\n",
    "##### read feature nucleosome to check\n",
    "if os.path.isfile(\"nuc.old.csv\") == False:\n",
    "    feat = \"Nucleosome\"\n",
    "    maindf = pd.DataFrame(\n",
    "        data = range(-300, 301),\n",
    "        columns = [\"size\"]\n",
    "    )\n",
    "    maindf[\"size\"] = maindf[\"size\"].astype(int)\n",
    "    all_files = [item for item in pathlib.Path(os.path.join(path_to_feature)).glob(f\"*/*GWfeature_{feat}.csv\")]\n",
    "    for file in tqdm(all_files):\n",
    "        sampleid = file.name.split(\"_\")[0]\n",
    "        tmpdf = pd.read_csv(file, index_col = [0])\n",
    "        tmpdf = tmpdf.T.reset_index()\n",
    "        tmpdf.columns = [\"size\", sampleid]\n",
    "        tmpdf[\"size\"] = tmpdf[\"size\"].astype(int)\n",
    "        maindf = maindf.merge(tmpdf, right_on = \"size\", left_on = \"size\")\n",
    "        \n",
    "    nucdf = maindf[[\"size\", \"1-ZLAAO90NB\"]]\n",
    "    nucdf.columns =  [\"size\", \"ZLAAO90NB\"]\n",
    "    nucdf.to_csv(\"nuc.old.csv\")\n",
    "else:\n",
    "    nucdf = pd.read_csv(\"nuc.old.csv\", index_col = [0])\n",
    "    \n",
    "feat = \"flen\"\n",
    "if os.path.isfile(\"flen.old.csv\") == False:\n",
    "    maindf = pd.DataFrame(data = range(50, 351), columns = [\"size\"])\n",
    "    maindf[\"size\"] = maindf[\"size\"].astype(int)\n",
    "    all_files = [item for item in pathlib.Path(os.path.join(path_to_feature)).glob(f\"*/*GWfeature_{feat}.csv\")]\n",
    "    for file in tqdm(all_files):\n",
    "            sampleid = file.name.split(\"_\")[0]\n",
    "            tmpdf = pd.read_csv(file, index_col = [0])[[\"size\", \"freq\"]]\n",
    "            tmpdf.columns = [\"size\", sampleid]\n",
    "            maindf = maindf.merge(tmpdf, right_on = \"size\", left_on = \"size\")\n",
    "    flendf = maindf[[\"size\", \"1-ZLAAO90NB\"]]\n",
    "    flendf.columns = [\"size\", \"ZLAAO90NB\"]\n",
    "    flendf.to_csv(\"flen.old.csv\")\n",
    "else:\n",
    "    flendf = pd.read_csv(\"flen.old.csv\", index_col = [0])"
   ]
  }
 ],
 "metadata": {
  "kernelspec": {
   "display_name": "pytorch",
   "language": "python",
   "name": "python3"
  },
  "language_info": {
   "codemirror_mode": {
    "name": "ipython",
    "version": 3
   },
   "file_extension": ".py",
   "mimetype": "text/x-python",
   "name": "python",
   "nbconvert_exporter": "python",
   "pygments_lexer": "ipython3",
   "version": "3.8.19"
  }
 },
 "nbformat": 4,
 "nbformat_minor": 2
}
