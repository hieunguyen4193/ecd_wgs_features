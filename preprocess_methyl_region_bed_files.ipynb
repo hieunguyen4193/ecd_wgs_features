{
 "cells": [
  {
   "cell_type": "code",
   "execution_count": 8,
   "metadata": {},
   "outputs": [],
   "source": [
    "import pandas as pd \n",
    "\n",
    "##### CNA 1M bins\n",
    "df = pd.read_csv(\"bin1M.tsv\", sep = \"\\t\")\n",
    "df[\"seqnames\"] = df[\"seqnames\"].apply(lambda x: f\"chr{x}\")\n",
    "df[[\"seqnames\", \"start\", \"end\", \"binIndex\"]].to_csv(\"bin1M.bed\", index=False, header=False, sep = \"\\t\")\n",
    "\n",
    "##### TSMA\n",
    "df = pd.read_excel(\"./methyl_regions/TSMA.xlsx\")\n",
    "df[\"chromosome\"] = df[\"chromosome\"].apply(lambda x: f\"chr{x}\")\n",
    "df[[\"chromosome\", \"coord.Start\", \"coord.End\", \"Region_name\"]].to_csv(\"./methyl_regions/TSMA.bed\", index=False, header=False, sep = \"\\t\")\n"
   ]
  },
  {
   "cell_type": "code",
   "execution_count": 7,
   "metadata": {},
   "outputs": [],
   "source": [
    "import pandas as pd\n",
    "import pathlib \n",
    "import os\n",
    "ndr_ref_dir = \"/media/hieunguyen/HNSD01/src/ecd_wgs_features/NDR_bed_files\"\n",
    "\n",
    "all_files = [item for item in pathlib.Path(ndr_ref_dir).glob(\"*.csv\")]\n",
    "for file in all_files:\n",
    "    tmpdf = pd.read_csv(file, sep = \"\\t\")\n",
    "    tmpdf[[\"chromosome\", \"start\", \"end\"]].to_csv(os.path.join(ndr_ref_dir, file.name.replace(\".csv\", \".bed\")), index = False, header=False, sep = \"\\t\")"
   ]
  }
 ],
 "metadata": {
  "kernelspec": {
   "display_name": "ete3_py39",
   "language": "python",
   "name": "python3"
  },
  "language_info": {
   "codemirror_mode": {
    "name": "ipython",
    "version": 3
   },
   "file_extension": ".py",
   "mimetype": "text/x-python",
   "name": "python",
   "nbconvert_exporter": "python",
   "pygments_lexer": "ipython3",
   "version": "3.9.20"
  }
 },
 "nbformat": 4,
 "nbformat_minor": 2
}
