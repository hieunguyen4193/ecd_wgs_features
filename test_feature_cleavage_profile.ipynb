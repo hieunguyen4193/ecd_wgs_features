{
 "cells": [
  {
   "cell_type": "code",
   "execution_count": 1,
   "metadata": {},
   "outputs": [
    {
     "name": "stderr",
     "output_type": "stream",
     "text": [
      "/tmp/ipykernel_34363/2511457461.py:47: FutureWarning: Series.__getitem__ treating keys as positions is deprecated. In a future version, integer keys will always be treated as labels (consistent with DataFrame behavior). To access a value by position, use `ser.iloc[pos]`\n",
      "  readdf[\"check_CG_motif\"] = readdf[[\"start\", \"flen\"]].apply(lambda x: assign_status_read_start(x[0]) if int(x[1]) > 0 else\n",
      "/tmp/ipykernel_34363/2511457461.py:48: FutureWarning: Series.__getitem__ treating keys as positions is deprecated. In a future version, integer keys will always be treated as labels (consistent with DataFrame behavior). To access a value by position, use `ser.iloc[pos]`\n",
      "  assign_status_read_start(str(int(x[0]) + 50)), axis = 1)\n"
     ]
    }
   ],
   "source": [
    "import numpy as np \n",
    "import pandas as pd \n",
    "\n",
    "import matplotlib.pyplot as plt\n",
    "from helper_functions_from_TSMA import *\n",
    "import pysam\n",
    "\n",
    "path_to_bam_file = \"/media/hieunguyen/GSHD_HN01/raw_data/bam_files/WGShg19.bam\"\n",
    "path_to_all_fa = \"/media/hieunguyen/GSHD_HN01/storage/resources/hg19\"\n",
    "path_to_bed_file = \"./methyl_regions/TSMA.bed\"\n",
    "\n",
    "# bedfile = pd.read_csv(path_to_bed_file, sep=\"\\t\", header=None)\n",
    "# bedfile.columns = [\"chrom\", \"start\", \"end\", \"region_name\"]\n",
    "# bedfile[\"region\"] = bedfile[[\"chrom\", \"start\", \"end\"]].apply(lambda x: \"{}:{}-{}\".format(x[0], x[1], x[2]), axis=1)\n",
    "\n",
    "cna_bin = pd.read_csv(\"./methyl_regions/CNA_bins.bed\", header = None)[0].values\n",
    "\n",
    "outputdf = pd.DataFrame({\"CGN_motif\": [\"CGN\", \"NCG\", \"NA\"]})\n",
    "bin = '3:1000001-2000000'\n",
    "# for bin in tqdm(cna_bin):\n",
    "readdf = fetch_reads(path_to_bam_file, \"chr{}\".format(bin))\n",
    "\n",
    "sampleid = str(path_to_bam_file).split(\"/\")[-1].split(\".\")[0]\n",
    "\n",
    "region_chrom = bin.split(\":\")[0]\n",
    "region_start = int(bin.split(\":\")[1].split(\"-\")[0])\n",
    "region_end = int(bin.split(\":\")[1].split(\"-\")[1])\n",
    "\n",
    "refseq_at_cluster = get_refseq(path_to_all_fa = path_to_all_fa, \n",
    "                                chrom = region_chrom, \n",
    "                                start = region_start, \n",
    "                                end = region_end + 1)\n",
    "all_cpg_in_cluster = [m.start(0) for m in re.finditer(\"CG\", refseq_at_cluster)]\n",
    "cpg_coords = [item + region_start for item in all_cpg_in_cluster]\n",
    "cpg_coords_minus1 = [item -1 for item in cpg_coords]\n",
    "\n",
    "cpg_coords = [str(item) for item in cpg_coords]\n",
    "cpg_coords_minus1 = [str(item) for item in cpg_coords_minus1]\n",
    "\n",
    "def assign_status_read_start(x, cpg_coords = cpg_coords, cpg_coords_minus1 = cpg_coords_minus1):\n",
    "    if x in cpg_coords:\n",
    "        return \"CGN\"\n",
    "    elif x in cpg_coords_minus1:\n",
    "        return \"NCG\"\n",
    "    else:\n",
    "        return \"NA\"\n",
    "readdf[\"check_CG_motif\"] = readdf[[\"start\", \"flen\"]].apply(lambda x: assign_status_read_start(x[0]) if int(x[1]) > 0 else \n",
    "                                                           assign_status_read_start(str(int(x[0]) + 50)), axis = 1)\n",
    "\n",
    "tmp_outputdf = readdf.groupby(\"check_CG_motif\")[\"start\"].count().reset_index()\n",
    "tmp_outputdf.columns = [\"CGN_motif\", bin]\n",
    "outputdf = outputdf.merge(tmp_outputdf,right_on = \"CGN_motif\", left_on = \"CGN_motif\")"
   ]
  },
  {
   "cell_type": "code",
   "execution_count": 2,
   "metadata": {},
   "outputs": [
    {
     "data": {
      "text/html": [
       "<div>\n",
       "<style scoped>\n",
       "    .dataframe tbody tr th:only-of-type {\n",
       "        vertical-align: middle;\n",
       "    }\n",
       "\n",
       "    .dataframe tbody tr th {\n",
       "        vertical-align: top;\n",
       "    }\n",
       "\n",
       "    .dataframe thead th {\n",
       "        text-align: right;\n",
       "    }\n",
       "</style>\n",
       "<table border=\"1\" class=\"dataframe\">\n",
       "  <thead>\n",
       "    <tr style=\"text-align: right;\">\n",
       "      <th></th>\n",
       "      <th>check_CG_motif</th>\n",
       "      <th>start</th>\n",
       "    </tr>\n",
       "  </thead>\n",
       "  <tbody>\n",
       "    <tr>\n",
       "      <th>0</th>\n",
       "      <td>CGN</td>\n",
       "      <td>105</td>\n",
       "    </tr>\n",
       "    <tr>\n",
       "      <th>1</th>\n",
       "      <td>NA</td>\n",
       "      <td>9197</td>\n",
       "    </tr>\n",
       "    <tr>\n",
       "      <th>2</th>\n",
       "      <td>NCG</td>\n",
       "      <td>37</td>\n",
       "    </tr>\n",
       "  </tbody>\n",
       "</table>\n",
       "</div>"
      ],
      "text/plain": [
       "  check_CG_motif  start\n",
       "0            CGN    105\n",
       "1             NA   9197\n",
       "2            NCG     37"
      ]
     },
     "execution_count": 2,
     "metadata": {},
     "output_type": "execute_result"
    }
   ],
   "source": [
    "readdf.groupby(\"check_CG_motif\")[\"start\"].count().reset_index()"
   ]
  },
  {
   "cell_type": "code",
   "execution_count": 3,
   "metadata": {},
   "outputs": [],
   "source": [
    "def get_min_dist_to_cpg(chrom, start, radius = 5):\n",
    "    refseq_at_cluster = get_refseq(path_to_all_fa = path_to_all_fa, \n",
    "                                    chrom = chrom, \n",
    "                                    start = start - radius - 1, \n",
    "                                    end = start + radius - 1)\n",
    "    cpg_dists = [m.start(0) - radius for m in re.finditer(\"CG\", refseq_at_cluster)]\n",
    "    if len(cpg_dists) == 0:\n",
    "        min_dist_to_cpg = \"NA\"\n",
    "    else:\n",
    "        min_dist_to_cpg = min(cpg_dists)\n",
    "    return min_dist_to_cpg\n"
   ]
  },
  {
   "cell_type": "code",
   "execution_count": 4,
   "metadata": {},
   "outputs": [],
   "source": [
    "# chrom = \"18\"\n",
    "# start = 1999507 + 50\n",
    "# radius = 10\n",
    "# seq = \"GGCAGCTTCCTAATGAGCAATGAATCAGTGACTTGGGCAGAGCTATTTAA\"\n",
    "# refseq_at_cluster = get_refseq(path_to_all_fa = path_to_all_fa, \n",
    "#                                     chrom = chrom, \n",
    "#                                     start = start - radius - 1, \n",
    "#                                     end = start + radius - 1)\n",
    "# cpg_dists = [m.start(0) - radius for m in re.finditer(\"CG\", refseq_at_cluster)]\n",
    "# cpg_dists"
   ]
  },
  {
   "cell_type": "code",
   "execution_count": 5,
   "metadata": {},
   "outputs": [
    {
     "name": "stderr",
     "output_type": "stream",
     "text": [
      "/tmp/ipykernel_34363/2947069879.py:1: FutureWarning: Series.__getitem__ treating keys as positions is deprecated. In a future version, integer keys will always be treated as labels (consistent with DataFrame behavior). To access a value by position, use `ser.iloc[pos]`\n",
      "  readdf[\"mindist\"] = readdf[[\"chrom\", \"start\", \"flen\"]].apply(lambda x: get_min_dist_to_cpg(x[0].replace(\"chr\", \"\"), int(x[1])) if int(x[2]) > 0 else\n",
      "/tmp/ipykernel_34363/2947069879.py:2: FutureWarning: Series.__getitem__ treating keys as positions is deprecated. In a future version, integer keys will always be treated as labels (consistent with DataFrame behavior). To access a value by position, use `ser.iloc[pos]`\n",
      "  get_min_dist_to_cpg(x[0].replace(\"chr\", \"\"), int(x[1]) + 50), axis = 1)\n"
     ]
    }
   ],
   "source": [
    "readdf[\"mindist\"] = readdf[[\"chrom\", \"start\", \"flen\"]].apply(lambda x: get_min_dist_to_cpg(x[0].replace(\"chr\", \"\"), int(x[1])) if int(x[2]) > 0 else \n",
    "                                                           get_min_dist_to_cpg(x[0].replace(\"chr\", \"\"), int(x[1]) + 50), axis = 1)\n"
   ]
  },
  {
   "cell_type": "code",
   "execution_count": 6,
   "metadata": {},
   "outputs": [
    {
     "data": {
      "text/plain": [
       "<Axes: xlabel='dist', ylabel='freq'>"
      ]
     },
     "execution_count": 6,
     "metadata": {},
     "output_type": "execute_result"
    },
    {
     "data": {
      "image/png": "[encoded data removed]",
      "text/plain": [
       "<Figure size 640x480 with 1 Axes>"
      ]
     },
     "metadata": {},
     "output_type": "display_data"
    }
   ],
   "source": [
    "plotdf = readdf[readdf[\"mindist\"] != \"NA\"].groupby(\"mindist\")[\"start\"].count().reset_index()\n",
    "plotdf.columns = [\"dist\", \"count\"]\n",
    "plotdf[\"freq\"] = plotdf[\"count\"] / plotdf[\"count\"].sum()\n",
    "sns.barplot(data = plotdf, x = \"dist\", y = \"freq\")"
   ]
  },
  {
   "cell_type": "code",
   "execution_count": null,
   "metadata": {},
   "outputs": [],
   "source": []
  },
  {
   "cell_type": "code",
   "execution_count": null,
   "metadata": {},
   "outputs": [],
   "source": []
  }
 ],
 "metadata": {
  "kernelspec": {
   "display_name": "pytorch",
   "language": "python",
   "name": "python3"
  },
  "language_info": {
   "codemirror_mode": {
    "name": "ipython",
    "version": 3
   },
   "file_extension": ".py",
   "mimetype": "text/x-python",
   "name": "python",
   "nbconvert_exporter": "python",
   "pygments_lexer": "ipython3",
   "version": "3.9.19"
  }
 },
 "nbformat": 4,
 "nbformat_minor": 2
}
