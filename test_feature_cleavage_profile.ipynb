{
 "cells": [
  {
   "cell_type": "code",
   "execution_count": null,
   "metadata": {},
   "outputs": [
    {
     "name": "stderr",
     "output_type": "stream",
     "text": [
      "/tmp/ipykernel_1973002/2996881333.py:13: FutureWarning: Series.__getitem__ treating keys as positions is deprecated. In a future version, integer keys will always be treated as labels (consistent with DataFrame behavior). To access a value by position, use `ser.iloc[pos]`\n",
      "  bedfile[\"region\"] = bedfile[[\"chrom\", \"start\", \"end\"]].apply(lambda x: \"{}:{}-{}\".format(x[0], x[1], x[2]), axis=1)\n"
     ]
    }
   ],
   "source": [
    "import numpy as np \n",
    "import pandas as pd \n",
    "\n",
    "import matplotlib.pyplot as plt\n",
    "from helper_functions_from_TSMA import *\n",
    "import pysam\n",
    "\n",
    "path_to_bam_file = \"/media/hieunguyen/GSHD_HN01/raw_data/bam_files/WGShg19.bam\"\n",
    "path_to_all_fa = \"/media/hieunguyen/GSHD_HN01/storage/resources/hg19\"\n",
    "path_to_bed_file = \"./methyl_regions/TSMA.bed\"\n",
    "bedfile = pd.read_csv(path_to_bed_file, sep=\"\\t\", header=None)\n",
    "bedfile.columns = [\"chrom\", \"start\", \"end\", \"region_name\"]\n",
    "bedfile[\"region\"] = bedfile[[\"chrom\", \"start\", \"end\"]].apply(lambda x: \"{}:{}-{}\".format(x[0], x[1], x[2]), axis=1)\n",
    "readdf = fetch_reads(path_to_bam_file, \"chr1:1000000-2000000\")\n",
    "\n",
    "region_chrom = \"1\"\n",
    "region_start = 1000000\n",
    "region_end = 2000000\n",
    "refseq_at_cluster = get_refseq(path_to_all_fa = path_to_all_fa, \n",
    "                                chrom = region_chrom, \n",
    "                                start = region_start, \n",
    "                                end = region_end + 1)\n",
    "all_cpg_in_cluster = [m.start(0) for m in re.finditer(\"CG\", refseq_at_cluster)]\n",
    "cpg_coords = [item + region_start for item in all_cpg_in_cluster]\n",
    "cpg_coords_minus1 = [item -1 for item in cpg_coords]\n",
    "\n",
    "cpg_coords = [str(item) for item in cpg_coords]\n",
    "cpg_coords_minus1 = [str(item) for item in cpg_coords_minus1]\n",
    "\n",
    "def assign_status_read_start(x, cpg_coords = cpg_coords, cpg_coords_minus1 = cpg_coords_minus1):\n",
    "    if x in cpg_coords:\n",
    "        return \"CGN\"\n",
    "    elif x in cpg_coords_minus1:\n",
    "        return \"NCG\"\n",
    "    else:\n",
    "        return \"NA\"\n",
    "readdf[\"check_CG_motif\"] = readdf[\"start\"].apply(lambda x: assign_status_read_start(x))"
   ]
  },
  {
   "cell_type": "code",
   "execution_count": 13,
   "metadata": {},
   "outputs": [
    {
     "data": {
      "text/plain": [
       "array(['1000705', '1000738', '1000831', ..., '1999404', '1999472',\n",
       "       '1999581'], dtype=object)"
      ]
     },
     "execution_count": 13,
     "metadata": {},
     "output_type": "execute_result"
    }
   ],
   "source": [
    "readdf.start.unique()"
   ]
  },
  {
   "cell_type": "code",
   "execution_count": 10,
   "metadata": {},
   "outputs": [
    {
     "data": {
      "text/plain": [
       "check_CG_motif\n",
       "NA    8170\n",
       "Name: start, dtype: int64"
      ]
     },
     "execution_count": 10,
     "metadata": {},
     "output_type": "execute_result"
    }
   ],
   "source": [
    "readdf.groupby(\"check_CG_motif\")[\"start\"].count()"
   ]
  }
 ],
 "metadata": {
  "kernelspec": {
   "display_name": "pytorch",
   "language": "python",
   "name": "python3"
  },
  "language_info": {
   "codemirror_mode": {
    "name": "ipython",
    "version": 3
   },
   "file_extension": ".py",
   "mimetype": "text/x-python",
   "name": "python",
   "nbconvert_exporter": "python",
   "pygments_lexer": "ipython3",
   "version": "3.9.19"
  }
 },
 "nbformat": 4,
 "nbformat_minor": 2
}
