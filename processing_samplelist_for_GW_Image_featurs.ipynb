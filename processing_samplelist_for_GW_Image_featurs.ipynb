{
 "cells": [
  {
   "cell_type": "markdown",
   "metadata": {},
   "source": [
    "# Pre-processing samplelist for generating image feature matrices"
   ]
  },
  {
   "cell_type": "markdown",
   "metadata": {},
   "source": [
    "## Version up-to-date 01.10.2024"
   ]
  },
  {
   "cell_type": "code",
   "execution_count": 8,
   "metadata": {},
   "outputs": [],
   "source": [
    "import pandas as pd \n",
    "\n",
    "df = pd.read_csv(\"samplelist.20241001.csv\", sep = \"\\t\", header = None)\n",
    "df.columns = [\"path\"]\n",
    "\n",
    "df[\"filename\"] = df[\"path\"].apply(lambda x: x.split(\"/\")[-1])\n",
    "df[\"SampleID\"] = df[\"filename\"].apply(lambda x: x.split(\"_\")[0].split(\".\")[0])\n",
    "\n",
    "df[[\"SampleID\", \"path\"]].to_csv(\"SampleSheet.20241001.csv\")\n",
    "\n"
   ]
  }
 ],
 "metadata": {
  "kernelspec": {
   "display_name": "pytorch",
   "language": "python",
   "name": "python3"
  },
  "language_info": {
   "codemirror_mode": {
    "name": "ipython",
    "version": 3
   },
   "file_extension": ".py",
   "mimetype": "text/x-python",
   "name": "python",
   "nbconvert_exporter": "python",
   "pygments_lexer": "ipython3",
   "version": "3.8.19"
  }
 },
 "nbformat": 4,
 "nbformat_minor": 2
}
