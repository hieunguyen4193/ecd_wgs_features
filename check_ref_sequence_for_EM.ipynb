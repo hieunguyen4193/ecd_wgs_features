{
 "cells": [
  {
   "cell_type": "code",
   "execution_count": 2,
   "metadata": {},
   "outputs": [
    {
     "ename": "FetchError",
     "evalue": "Requested rname Fasta(\"/Users/hieunguyen/data/resources/hg19.fa\") does not exist! Please check your FASTA file.",
     "output_type": "error",
     "traceback": [
      "\u001b[0;31m---------------------------------------------------------------------------\u001b[0m",
      "\u001b[0;31mKeyError\u001b[0m                                  Traceback (most recent call last)",
      "File \u001b[0;32m~/miniconda3/envs/pytorch/lib/python3.8/site-packages/pyfaidx/__init__.py:736\u001b[0m, in \u001b[0;36mFaidx.from_file\u001b[0;34m(self, rname, start, end, internals)\u001b[0m\n\u001b[1;32m    735\u001b[0m \u001b[38;5;28;01mtry\u001b[39;00m:\n\u001b[0;32m--> 736\u001b[0m     i \u001b[38;5;241m=\u001b[39m \u001b[38;5;28;43mself\u001b[39;49m\u001b[38;5;241;43m.\u001b[39;49m\u001b[43mindex\u001b[49m\u001b[43m[\u001b[49m\u001b[43mrname\u001b[49m\u001b[43m]\u001b[49m\n\u001b[1;32m    737\u001b[0m \u001b[38;5;28;01mexcept\u001b[39;00m \u001b[38;5;167;01mKeyError\u001b[39;00m:\n",
      "\u001b[0;31mKeyError\u001b[0m: Fasta(\"/Users/hieunguyen/data/resources/hg19.fa\")",
      "\nDuring handling of the above exception, another exception occurred:\n",
      "\u001b[0;31mFetchError\u001b[0m                                Traceback (most recent call last)",
      "Cell \u001b[0;32mIn[2], line 21\u001b[0m\n\u001b[1;32m     19\u001b[0m file \u001b[38;5;241m=\u001b[39m \u001b[38;5;124m\"\u001b[39m\u001b[38;5;124m/Users/hieunguyen/data/resources/hg19.fa\u001b[39m\u001b[38;5;124m\"\u001b[39m\n\u001b[1;32m     20\u001b[0m fasta_file \u001b[38;5;241m=\u001b[39m pyfaidx\u001b[38;5;241m.\u001b[39mFasta(file)\n\u001b[0;32m---> 21\u001b[0m ref_seq \u001b[38;5;241m=\u001b[39m \u001b[43mfasta_file\u001b[49m\u001b[38;5;241;43m.\u001b[39;49m\u001b[43mget_seq\u001b[49m\u001b[43m(\u001b[49m\u001b[43mname\u001b[49m\u001b[43m \u001b[49m\u001b[38;5;241;43m=\u001b[39;49m\u001b[43m \u001b[49m\u001b[43mfasta_file\u001b[49m\u001b[43m,\u001b[49m\u001b[43m \u001b[49m\u001b[43mstart\u001b[49m\u001b[43m \u001b[49m\u001b[38;5;241;43m=\u001b[39;49m\u001b[43m \u001b[49m\u001b[38;5;241;43m54898422\u001b[39;49m\u001b[43m,\u001b[49m\u001b[43m \u001b[49m\u001b[43mend\u001b[49m\u001b[43m \u001b[49m\u001b[38;5;241;43m=\u001b[39;49m\u001b[43m \u001b[49m\u001b[38;5;241;43m54898422\u001b[39;49m\u001b[43m \u001b[49m\u001b[38;5;241;43m+\u001b[39;49m\u001b[43m \u001b[49m\u001b[38;5;241;43m164\u001b[39;49m\u001b[43m)\u001b[49m\n\u001b[1;32m     22\u001b[0m ref_seq \u001b[38;5;241m=\u001b[39m ref_seq\u001b[38;5;241m.\u001b[39mseq\n",
      "File \u001b[0;32m~/miniconda3/envs/pytorch/lib/python3.8/site-packages/pyfaidx/__init__.py:1143\u001b[0m, in \u001b[0;36mFasta.get_seq\u001b[0;34m(self, name, start, end, rc)\u001b[0m\n\u001b[1;32m   1137\u001b[0m \u001b[38;5;250m\u001b[39m\u001b[38;5;124;03m\"\"\"Return a sequence by record name and interval [start, end].\u001b[39;00m\n\u001b[1;32m   1138\u001b[0m \n\u001b[1;32m   1139\u001b[0m \u001b[38;5;124;03mCoordinates are 1-based, closed interval.\u001b[39;00m\n\u001b[1;32m   1140\u001b[0m \u001b[38;5;124;03mIf rc is set, reverse complement will be returned.\u001b[39;00m\n\u001b[1;32m   1141\u001b[0m \u001b[38;5;124;03m\"\"\"\u001b[39;00m\n\u001b[1;32m   1142\u001b[0m \u001b[38;5;66;03m# Get sequence from real genome object and save result.\u001b[39;00m\n\u001b[0;32m-> 1143\u001b[0m seq \u001b[38;5;241m=\u001b[39m \u001b[38;5;28;43mself\u001b[39;49m\u001b[38;5;241;43m.\u001b[39;49m\u001b[43mfaidx\u001b[49m\u001b[38;5;241;43m.\u001b[39;49m\u001b[43mfetch\u001b[49m\u001b[43m(\u001b[49m\u001b[43mname\u001b[49m\u001b[43m,\u001b[49m\u001b[43m \u001b[49m\u001b[43mstart\u001b[49m\u001b[43m,\u001b[49m\u001b[43m \u001b[49m\u001b[43mend\u001b[49m\u001b[43m)\u001b[49m\n\u001b[1;32m   1144\u001b[0m \u001b[38;5;28;01mif\u001b[39;00m rc:\n\u001b[1;32m   1145\u001b[0m     \u001b[38;5;28;01mreturn\u001b[39;00m \u001b[38;5;241m-\u001b[39mseq\n",
      "File \u001b[0;32m~/miniconda3/envs/pytorch/lib/python3.8/site-packages/pyfaidx/__init__.py:721\u001b[0m, in \u001b[0;36mFaidx.fetch\u001b[0;34m(self, name, start, end)\u001b[0m\n\u001b[1;32m    719\u001b[0m     seq \u001b[38;5;241m=\u001b[39m \u001b[38;5;28mself\u001b[39m\u001b[38;5;241m.\u001b[39mfrom_buffer(start, end)\n\u001b[1;32m    720\u001b[0m \u001b[38;5;28;01melse\u001b[39;00m:\n\u001b[0;32m--> 721\u001b[0m     seq \u001b[38;5;241m=\u001b[39m \u001b[38;5;28;43mself\u001b[39;49m\u001b[38;5;241;43m.\u001b[39;49m\u001b[43mfrom_file\u001b[49m\u001b[43m(\u001b[49m\u001b[43mname\u001b[49m\u001b[43m,\u001b[49m\u001b[43m \u001b[49m\u001b[43mstart\u001b[49m\u001b[43m,\u001b[49m\u001b[43m \u001b[49m\u001b[43mend\u001b[49m\u001b[43m)\u001b[49m\n\u001b[1;32m    723\u001b[0m \u001b[38;5;28;01mreturn\u001b[39;00m \u001b[38;5;28mself\u001b[39m\u001b[38;5;241m.\u001b[39mformat_seq(seq, name, start, end)\n",
      "File \u001b[0;32m~/miniconda3/envs/pytorch/lib/python3.8/site-packages/pyfaidx/__init__.py:738\u001b[0m, in \u001b[0;36mFaidx.from_file\u001b[0;34m(self, rname, start, end, internals)\u001b[0m\n\u001b[1;32m    736\u001b[0m     i \u001b[38;5;241m=\u001b[39m \u001b[38;5;28mself\u001b[39m\u001b[38;5;241m.\u001b[39mindex[rname]\n\u001b[1;32m    737\u001b[0m \u001b[38;5;28;01mexcept\u001b[39;00m \u001b[38;5;167;01mKeyError\u001b[39;00m:\n\u001b[0;32m--> 738\u001b[0m     \u001b[38;5;28;01mraise\u001b[39;00m FetchError(\u001b[38;5;124m\"\u001b[39m\u001b[38;5;124mRequested rname \u001b[39m\u001b[38;5;132;01m{0}\u001b[39;00m\u001b[38;5;124m does not exist! \u001b[39m\u001b[38;5;124m\"\u001b[39m\n\u001b[1;32m    739\u001b[0m                      \u001b[38;5;124m\"\u001b[39m\u001b[38;5;124mPlease check your FASTA file.\u001b[39m\u001b[38;5;124m\"\u001b[39m\u001b[38;5;241m.\u001b[39mformat(rname))\n\u001b[1;32m    740\u001b[0m start0 \u001b[38;5;241m=\u001b[39m start \u001b[38;5;241m-\u001b[39m \u001b[38;5;241m1\u001b[39m  \u001b[38;5;66;03m# make coordinates [0,1)\u001b[39;00m\n\u001b[1;32m    741\u001b[0m \u001b[38;5;28;01mif\u001b[39;00m start0 \u001b[38;5;241m<\u001b[39m \u001b[38;5;241m0\u001b[39m:\n",
      "\u001b[0;31mFetchError\u001b[0m: Requested rname Fasta(\"/Users/hieunguyen/data/resources/hg19.fa\") does not exist! Please check your FASTA file."
     ]
    }
   ],
   "source": [
    "import pandas as pd\n",
    "import numpy as np\n",
    "import os\n",
    "from tqdm import tqdm\n",
    "import pathlib\n",
    "import pysam\n",
    "import pyfaidx\n",
    "\n",
    "'''\n",
    "Run this script to construct CpG clusters across the whole genome. \n",
    "A CpG cluster is defined as a cluster of at least 5 CpG sites within a radius of 100 bp (default).\n",
    "The output is a bed file with the following columns: chromosome, region start, region end, region name, number of CpG sites in the region.\n",
    "Download the latest version of human reference genome hg19 at: https://hgdownload.soe.ucsc.edu/goldenPath/hg19/chromosomes/\n",
    "'''\n",
    "\n",
    "# path to the folder containing all the fasta files of the human reference genome hg19\n",
    "path_to_all_fa = \"/Users/hieunguyen/data/resources/hg19\"\n",
    "\n",
    "file = \"/Users/hieunguyen/data/resources/hg19.fa\"\n",
    "fasta_file = pyfaidx.Fasta(file)\n",
    "ref_seq = fasta_file.get_seq(name = fasta_file, start = 54898422, end = 54898422 + 164)\n",
    "ref_seq = ref_seq.seq\n"
   ]
  }
 ],
 "metadata": {
  "kernelspec": {
   "display_name": "pytorch",
   "language": "python",
   "name": "python3"
  },
  "language_info": {
   "codemirror_mode": {
    "name": "ipython",
    "version": 3
   },
   "file_extension": ".py",
   "mimetype": "text/x-python",
   "name": "python",
   "nbconvert_exporter": "python",
   "pygments_lexer": "ipython3",
   "version": "3.8.19"
  }
 },
 "nbformat": 4,
 "nbformat_minor": 2
}
