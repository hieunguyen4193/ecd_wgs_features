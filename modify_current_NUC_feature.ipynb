{
 "cells": [
  {
   "cell_type": "code",
   "execution_count": 10,
   "metadata": {},
   "outputs": [
    {
     "name": "stderr",
     "output_type": "stream",
     "text": [
      "100%|██████████| 1720/1720 [00:13<00:00, 123.07it/s]\n"
     ]
    }
   ],
   "source": [
    "import pandas as pd\n",
    "import pathlib\n",
    "import os \n",
    "from tqdm import tqdm\n",
    "datadir = \"/Users/hieunguyen/data/WGS_features/20240924/feature\"\n",
    "\n",
    "all_nuc_files = [item for item in pathlib.Path(datadir).glob(\"*/*_Nucleosome.csv\")]\n",
    "for file in tqdm(all_nuc_files):\n",
    "    df = pd.read_csv(file)\n",
    "    df = df.set_index(\"Sample\").T.reset_index()\n",
    "    df.columns = [\"dist\", \"freq\"]\n",
    "    df.to_csv(file, index=False)"
   ]
  }
 ],
 "metadata": {
  "kernelspec": {
   "display_name": "pytorch",
   "language": "python",
   "name": "python3"
  },
  "language_info": {
   "codemirror_mode": {
    "name": "ipython",
    "version": 3
   },
   "file_extension": ".py",
   "mimetype": "text/x-python",
   "name": "python",
   "nbconvert_exporter": "python",
   "pygments_lexer": "ipython3",
   "version": "3.8.19"
  }
 },
 "nbformat": 4,
 "nbformat_minor": 2
}
