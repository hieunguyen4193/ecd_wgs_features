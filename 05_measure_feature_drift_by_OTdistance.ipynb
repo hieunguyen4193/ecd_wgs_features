{
 "cells": [
  {
   "cell_type": "code",
   "execution_count": 3,
   "metadata": {},
   "outputs": [],
   "source": [
    "import numpy as np\n",
    "import pandas as pd\n",
    "import matplotlib.pyplot as plt\n",
    "import seaborn as sns\n",
    "import os\n",
    "import pathlib\n",
    "from tqdm import tqdm\n",
    "from feature_class import *\n",
    "\n",
    "path_to_feature_dir = \"/Users/hieunguyen/data/WGS_features/20240924/feature\"\n",
    "path_to_metadata = \"/Users/hieunguyen/data/WGS_features/20240924/metadata/metadata_nonBS_200924.xlsx\"\n",
    "obj = WGS_GW_features(path_to_feature_dir=path_to_feature_dir,\n",
    "                      path_to_metadata=path_to_metadata)\n"
   ]
  }
 ],
 "metadata": {
  "kernelspec": {
   "display_name": "pytorch",
   "language": "python",
   "name": "python3"
  },
  "language_info": {
   "codemirror_mode": {
    "name": "ipython",
    "version": 3
   },
   "file_extension": ".py",
   "mimetype": "text/x-python",
   "name": "python",
   "nbconvert_exporter": "python",
   "pygments_lexer": "ipython3",
   "version": "3.8.19"
  }
 },
 "nbformat": 4,
 "nbformat_minor": 2
}
