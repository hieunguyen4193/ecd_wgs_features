{
 "cells": [
  {
   "cell_type": "code",
   "execution_count": 22,
   "metadata": {},
   "outputs": [],
   "source": [
    "import pandas as pd\n",
    "import pathlib\n",
    "\n",
    "import matplotlib.pyplot as plt\n",
    "import seaborn as sns\n",
    "\n",
    "allfiles = [item for item in pathlib.Path(\"SF100\").glob(\"*.tsv\")]\n",
    "sfdf = pd.DataFrame()\n",
    "for file in allfiles:\n",
    "    tmpdf = pd.read_csv(file, sep = \"\\t\")\n",
    "    sfdf = pd.concat([sfdf, tmpdf], axis = 0)\n",
    "sfdf[\"SampleID\"] = sfdf[\"Sample\"].apply(lambda x: x.split(\"_\")[0].split(\"-\")[1])\n",
    "metadata = pd.read_excel(\"Label_Metadata_pairwise_ichorCNA_without_11_high_tumor_fraction_control_samples_nor 15.xlsx\")\n",
    "sfdf = sfdf.merge(metadata, left_on = \"SampleID\", right_on = \"SampleID\")"
   ]
  },
  {
   "cell_type": "code",
   "execution_count": 34,
   "metadata": {},
   "outputs": [],
   "source": [
    "def assign_pred_type(Label, true_label, pred_label):\n",
    "    if Label == \"Control\":\n",
    "        if true_label == pred_label:\n",
    "            return \"TN\"\n",
    "        else:\n",
    "            return \"FP\"\n",
    "    else:\n",
    "        if true_label == pred_label:\n",
    "            return \"TP\"\n",
    "        else:\n",
    "            return \"FN\"\n",
    "sfdf[\"type\"] = sfdf[[\"Label\", \"true_label\", \"pred_label\"]].apply(lambda x: assign_pred_type(x[0], x[1], x[2]), axis = 1)\n",
    "sfdf[\"Set_general\"] = sfdf[\"Set\"].apply(lambda x: \"train\" if x == \"train\" else \"test\")"
   ]
  },
  {
   "cell_type": "code",
   "execution_count": null,
   "metadata": {},
   "outputs": [],
   "source": [
    "for input_set in [item for item in sfdf.Set.unique() if item != \"train\"]:\n",
    "    tmpdf = sfdf[sfdf[\"Set\"].isin([\"train\", input_set])].copy()\n",
    "    tmpdf = tmpdf.sort_values(by = \"Set_general\")\n",
    "    plt.figure()\n",
    "    sns.boxplot(data = tmpdf, x = \"Set_general\", y = \"SF100\", hue = \"type\")\n",
    "    plt.tight_layout()\n",
    "    plt.title(input_set)\n",
    "    plt.savefig(f\"SF100_plotdir/boxplot_{input_set}.png\")\n"
   ]
  }
 ],
 "metadata": {
  "kernelspec": {
   "display_name": "pytorch",
   "language": "python",
   "name": "python3"
  },
  "language_info": {
   "codemirror_mode": {
    "name": "ipython",
    "version": 3
   },
   "file_extension": ".py",
   "mimetype": "text/x-python",
   "name": "python",
   "nbconvert_exporter": "python",
   "pygments_lexer": "ipython3",
   "version": "3.8.19"
  }
 },
 "nbformat": 4,
 "nbformat_minor": 2
}
