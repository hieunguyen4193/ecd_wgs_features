{
 "cells": [
  {
   "cell_type": "code",
   "execution_count": 25,
   "metadata": {},
   "outputs": [
    {
     "name": "stderr",
     "output_type": "stream",
     "text": [
      "/var/folders/8j/g55jqp3s7mj16s_gvcwb4y800000gn/T/ipykernel_45708/3129819488.py:4: DtypeWarning: Columns (0) have mixed types. Specify dtype option on import or set low_memory=False.\n",
      "  df = pd.read_csv(input_file, sep=\"\\t\", header = None)\n"
     ]
    }
   ],
   "source": [
    "import pandas as pd \n",
    "\n",
    "input_file = \"/Users/hieunguyen/src/ecd_wgs_features/output/test_compare_pipeline_old_new/test_old_pipeline/flen/test_old_pipeline.flen.txt\"\n",
    "df = pd.read_csv(input_file, sep=\"\\t\", header = None)\n",
    "orig_df = df.copy()\n",
    "df.columns = [\"flen\"]\n",
    "df = df[df[\"flen\"].str.contains(\"-\") == False]\n",
    "df[\"flen\"] = df[\"flen\"].astype(int)"
   ]
  },
  {
   "cell_type": "code",
   "execution_count": 13,
   "metadata": {},
   "outputs": [],
   "source": [
    "df[\"abs_flen\"] = df[\"flen\"].abs()\n",
    "if not df.empty:\n",
    "    flen_count = df[\"abs_flen\"].value_counts().reset_index()\n",
    "    flen_count.columns = [\"size\", \"count\"]\n",
    "    ##### keep only fragments that are between 50 and 350 bp\n",
    "    flen_count = flen_count[(flen_count[\"size\"] >= 50) & (flen_count[\"size\"] <= 350)]\n",
    "    flen_count[\"freq\"] = flen_count[\"count\"] / flen_count[\"count\"].sum()\n",
    "    flen_count = flen_count.sort_values(\"size\")\n",
    "    output_df = pd.DataFrame({\"size\": range(50, 351)})\n",
    "    output_df = output_df.merge(flen_count, on=\"size\", how=\"left\").fillna(0)\n",
    "    output_df = output_df[[\"size\", \"freq\", \"count\"]]"
   ]
  },
  {
   "cell_type": "code",
   "execution_count": 23,
   "metadata": {},
   "outputs": [],
   "source": [
    "newflendf = pd.read_csv(\"/Users/hieunguyen/src/ecd_wgs_features/output/WGShg19.flen.csv\")"
   ]
  }
 ],
 "metadata": {
  "kernelspec": {
   "display_name": "pytorch",
   "language": "python",
   "name": "python3"
  },
  "language_info": {
   "codemirror_mode": {
    "name": "ipython",
    "version": 3
   },
   "file_extension": ".py",
   "mimetype": "text/x-python",
   "name": "python",
   "nbconvert_exporter": "python",
   "pygments_lexer": "ipython3",
   "version": "3.8.19"
  }
 },
 "nbformat": 4,
 "nbformat_minor": 2
}
