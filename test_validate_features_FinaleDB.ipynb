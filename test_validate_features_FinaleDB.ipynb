{
 "cells": [
  {
   "cell_type": "code",
   "execution_count": 1,
   "metadata": {},
   "outputs": [],
   "source": [
    "import pandas as pd \n",
    "import pathlib\n",
    "import seaborn as sns\n",
    "import matplotlib.pyplot as plt\n",
    "\n",
    "final_Feature_dir=\"/Users/hieunguyen/src/ecd_wgs_features/batch_test_FinaleDB/batch_test_FinaleDB\"\n",
    "\n",
    "emdf = pd.read_csv(f\"{final_Feature_dir}/EM.csv\")\n",
    "flendf = pd.read_csv(f\"{final_Feature_dir}/FLEN.csv\")\n",
    "nucdf = pd.read_csv(f\"{final_Feature_dir}/NUCLEOSOME.csv\") "
   ]
  }
 ],
 "metadata": {
  "kernelspec": {
   "display_name": "pytorch",
   "language": "python",
   "name": "python3"
  },
  "language_info": {
   "codemirror_mode": {
    "name": "ipython",
    "version": 3
   },
   "file_extension": ".py",
   "mimetype": "text/x-python",
   "name": "python",
   "nbconvert_exporter": "python",
   "pygments_lexer": "ipython3",
   "version": "3.8.19"
  }
 },
 "nbformat": 4,
 "nbformat_minor": 2
}
