{
 "cells": [
  {
   "cell_type": "code",
   "execution_count": 1,
   "metadata": {},
   "outputs": [],
   "source": [
    "import pandas as pd\n",
    "import os\n",
    "\n",
    "class WGS_GW_features:\n",
    "    def __init__(self,\n",
    "                 input_tsv,\n",
    "                 motif_order_path,\n",
    "                 outputdir):\n",
    "        self.input_tsv = input_tsv\n",
    "        self.sampleid = input_tsv.split(\"/\")[-1].split(\".\")[0]\n",
    "        print(\"reading in the input frag.tsv data\")\n",
    "        self.maindf = pd.read_csv(input_tsv, sep = \"\\t\", header = None)\n",
    "        self.maindf.columns = [\"chr\", \"start\", \"end\", \"flen\", \"readID\", \"forward_NUC\", \"reverse_NUC\", \"forward_EM\", \"reverse_EM\"]\n",
    "        self.motif_order_path = motif_order_path\n",
    "        self.motif_order = pd.read_csv(motif_order_path)[\"motif_order\"].values\n",
    "        self.all_4bp_motifs = [\n",
    "            \"{}{}{}{}\".format(i,j,k,l) \n",
    "            for i in [\"A\", \"T\", \"G\", \"C\"] \n",
    "            for j in [\"A\", \"T\", \"G\", \"C\"] \n",
    "            for k in [\"A\", \"T\", \"G\", \"C\"] \n",
    "            for l in [\"A\", \"T\", \"G\", \"C\"]\n",
    "        ]\n",
    "        self.maindf_filter_chr = self.maindf[self.maindf[\"chr\"].isin([f\"chr{i}\" for i in range(1, 22)])]\n",
    "        self.outputdir = outputdir\n",
    "        \n",
    "    #####-------------------------------------------------------------#####\n",
    "    ##### Distribution of fragment lengths\n",
    "    #####-------------------------------------------------------------#####\n",
    "    def generate_flen_feature(self, \n",
    "                                   save_feature = True):\n",
    "        flendf = self.maindf[[\"flen\"]].copy()\n",
    "        flendf[\"abs_flen\"] = flendf[\"flen\"].abs()\n",
    "        if not flendf.empty:\n",
    "            flen_count = flendf[\"abs_flen\"].value_counts().reset_index()\n",
    "            flen_count.columns = [\"size\", \"count\"]\n",
    "            ##### keep only fragments that are between 50 and 350 bp\n",
    "            flen_count = flen_count[(flen_count[\"size\"] >= 50) & (flen_count[\"size\"] <= 350)]\n",
    "            flen_count[\"freq\"] = flen_count[\"count\"] / flen_count[\"count\"].sum()\n",
    "            flen_count = flen_count.sort_values(\"size\")\n",
    "            output_flendf = pd.DataFrame({\"size\": range(50, 351)})\n",
    "            output_flendf = output_flendf.merge(flen_count, on=\"size\", how=\"left\").fillna(0)\n",
    "            output_flendf = output_flendf[[\"size\", \"freq\", \"count\"]]\n",
    "            if save_feature:\n",
    "                output_flendf.to_csv(os.path.join(self.outputdir, f\"{self.sampleid}.flen.csv\"), index=False)\n",
    "            return output_flendf\n",
    "        \n",
    "    #####-------------------------------------------------------------#####\n",
    "    ##### 4bp end motif\n",
    "    #####-------------------------------------------------------------#####    \n",
    "    def generate_em_feature(self, \n",
    "                            save_feature = True):\n",
    "        emdf = pd.DataFrame(data = [item for item in self.maindf[\"reverse_EM\"].values + self.maindf[\"forward_EM\"].values if item != \"NA\"],\n",
    "                            columns = [\"EM\"])\n",
    "        emdf.columns = [\"motif\"]\n",
    "        emdf[\"motif\"] = emdf[\"motif\"].str.upper()\n",
    "        output_emdf = emdf[\"motif\"].value_counts().reset_index()\n",
    "        if not output_emdf.empty:\n",
    "            output_emdf.columns = [\"motif\", \"count\"]\n",
    "            output_emdf = output_emdf[~output_emdf[\"motif\"].str.contains(\"N\")]\n",
    "            output_emdf[\"freq\"] = output_emdf[\"count\"] / output_emdf[\"count\"].sum()\n",
    "            output_emdf = output_emdf[[\"motif\", \"freq\"]]\n",
    "            if save_feature:\n",
    "                output_emdf.to_csv(os.path.join(self.outputdir, f\"{self.sampleid}.EM.csv\"), index=False)\n",
    "            return output_emdf\n",
    "\n",
    "    #####-------------------------------------------------------------#####    \n",
    "    ##### distribution of distance read-to-nearest nucleosome\n",
    "    #####-------------------------------------------------------------#####    \n",
    "    def generate_nuc_feature(self, \n",
    "                            save_feature = True):\n",
    "        nucdf1 = pd.DataFrame(data = self.maindf[\"reverse_NUC\"].values,\n",
    "                     columns = [\"feat\"])\n",
    "        nucdf2 = pd.DataFrame(data = self.maindf[\"forward_NUC\"].values,\n",
    "                     columns = [\"feat\"])\n",
    "        nucdf = pd.concat([nucdf1, nucdf2], axis = 0)\n",
    "        nucdf = nucdf[(nucdf[\"feat\"] >= -300) & (nucdf[\"feat\"] <= 300)]\n",
    "        output_nucdf = nucdf.reset_index().groupby(\"feat\")[\"index\"].count().reset_index()\n",
    "        output_nucdf[\"index\"] = output_nucdf[\"index\"].apply(lambda x: x/output_nucdf[\"index\"].sum())\n",
    "        output_nucdf[\"index\"].plot()\n",
    "        if save_feature:\n",
    "            output_nucdf.to_csv(os.path.join(self.outputdir, f\"{self.sampleid}.NUC.csv\"), index=False)\n",
    "        return nucdf"
   ]
  },
  {
   "cell_type": "code",
   "execution_count": 2,
   "metadata": {},
   "outputs": [
    {
     "name": "stdout",
     "output_type": "stream",
     "text": [
      "reading in the input frag.tsv data\n"
     ]
    }
   ],
   "source": [
    "input_tsv = \"/Users/hieunguyen/src/ecd_wgs_features/output/WGShg19.final_output.tsv\"\n",
    "motif_order_path = \"/Users/hieunguyen/src/ecd_wgs_features/motif_order.csv\"\n",
    "outputdir = \"/Users/hieunguyen/src/ecd_wgs_features/output\"\n",
    "\n",
    "output_obj = WGS_GW_features(input_tsv = input_tsv,\n",
    "                             motif_order_path = motif_order_path,\n",
    "                             outputdir = outputdir)\n"
   ]
  }
 ],
 "metadata": {
  "kernelspec": {
   "display_name": "pytorch",
   "language": "python",
   "name": "python3"
  },
  "language_info": {
   "codemirror_mode": {
    "name": "ipython",
    "version": 3
   },
   "file_extension": ".py",
   "mimetype": "text/x-python",
   "name": "python",
   "nbconvert_exporter": "python",
   "pygments_lexer": "ipython3",
   "version": "3.8.19"
  }
 },
 "nbformat": 4,
 "nbformat_minor": 2
}
