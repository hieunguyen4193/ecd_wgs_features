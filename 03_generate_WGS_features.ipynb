{
 "cells": [
  {
   "cell_type": "code",
   "execution_count": null,
   "metadata": {},
   "outputs": [],
   "source": [
    "import pandas as pd\n",
    "\n",
    "def generate_flen_feature(input_path):\n",
    "    flendf = pd.read_csv(input_path, header=None, names=[\"flen\"])\n",
    "    flendf[\"abs_flen\"] = flendf[\"flen\"].abs()\n",
    "    \n",
    "    if not flendf.empty:\n",
    "        flen_count = flendf[\"abs_flen\"].value_counts().reset_index()\n",
    "        flen_count.columns = [\"size\", \"count\"]\n",
    "        flen_count = flen_count[(flen_count[\"size\"] >= 50) & (flen_count[\"size\"] <= 350)]\n",
    "        \n",
    "        flen_count[\"freq\"] = flen_count[\"count\"] / flen_count[\"count\"].sum()\n",
    "        flen_count = flen_count.sort_values(\"size\")\n",
    "        \n",
    "        output_flendf = pd.DataFrame({\"size\": range(50, 351)})\n",
    "        output_flendf = output_flendf.merge(flen_count, on=\"size\", how=\"left\").fillna(0)\n",
    "        \n",
    "        output_flendf = output_flendf[[\"size\", \"freq\", \"count\"]]\n",
    "        return output_flendf"
   ]
  }
 ],
 "metadata": {
  "language_info": {
   "name": "python"
  }
 },
 "nbformat": 4,
 "nbformat_minor": 2
}
