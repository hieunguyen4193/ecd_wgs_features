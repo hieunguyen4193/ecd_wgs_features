{
 "cells": [
  {
   "cell_type": "code",
   "execution_count": 3,
   "metadata": {},
   "outputs": [],
   "source": [
    "import pandas as pd \n",
    "\n",
    "maindf = pd.read_csv(\"/Users/hieunguyen/data/resources/rpr_map_EXP0779.sorted.bed\", sep=\"\\t\", header=None)\n",
    "maindf[0] = maindf[0].apply(lambda x: x.replace(\"chr\", \"\"))\n",
    "maindf.to_csv(\"/Users/hieunguyen/data/resources/rpr_map_EXP0779.noChr.sorted.bed\", sep = \"\\t\", header = False, index = False)"
   ]
  }
 ],
 "metadata": {
  "kernelspec": {
   "display_name": "pytorch",
   "language": "python",
   "name": "python3"
  },
  "language_info": {
   "codemirror_mode": {
    "name": "ipython",
    "version": 3
   },
   "file_extension": ".py",
   "mimetype": "text/x-python",
   "name": "python",
   "nbconvert_exporter": "python",
   "pygments_lexer": "ipython3",
   "version": "3.8.19"
  }
 },
 "nbformat": 4,
 "nbformat_minor": 2
}
