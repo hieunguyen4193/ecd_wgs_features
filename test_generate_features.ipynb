{
 "cells": [
  {
   "cell_type": "code",
   "execution_count": null,
   "metadata": {},
   "outputs": [],
   "source": [
    "import numpy as np\n",
    "import pandas as pd\n",
    "import matplotlib.pyplot as plt\n",
    "import seaborn as sns\n",
    "import os\n",
    "import pathlib\n",
    "from tqdm import tqdm\n",
    "from feature_class import *\n",
    "\n",
    "input_tsv = \"/Users/hieunguyen/src/ecd_wgs_features/batch_test/1-ZLAAO90NB_S7509-S7709.sorted/1-ZLAAO90NB_S7509-S7709.sorted.final_output.tsv\"\n",
    "motif_order_path = \"./motif_order.csv\"\n",
    "outputdir = \"./batch_test/1-ZLAAO90NB_S7509-S7709.sorted\"\n",
    "path_to_old_nuc = \"./batch_test/1-ZLAAO90NB_S7509-S7709.sorted/1-ZLAAO90NB_S7509-S7709.sorted.full_Nucleosome.dist.final.bed\"\n",
    "\n",
    "# files_to_delete = [item for item in pathlib.Path(outputdir).glob(\"*.bed\") \n",
    "#                            if \".full_Nucleosome.dist.final.bed\" in item.name == False \n",
    "#                            and \".final_output.tsv\" in item.name == False]\n",
    "\n",
    "output_obj = WGS_GW_Image_features(input_tsv = input_tsv,\n",
    "                             motif_order_path = motif_order_path,\n",
    "                             outputdir = outputdir,\n",
    "                             path_to_old_nuc = path_to_old_nuc)\n",
    "    \n",
    "##### generate GW features and save features to output dir\n",
    "output_obj.generate_flen_feature()\n",
    "output_obj.generate_em_feature()\n",
    "# output_obj.generate_nuc_feature()\n",
    "output_obj.generate_nuc_feature_1()\n",
    "\n",
    "all_features = WGS_GW_features(path_to_feature_dir=\"/Users/hieunguyen/src/ecd_wgs_features/batch_test\",\n",
    "                               path_to_metadata=None)\n",
    "\n",
    "emdf = all_features.generate_em_matrix().reset_index()\n",
    "nucdf = all_features.generate_nuc_matrix().reset_index()\n",
    "flendf = all_features.generate_flen_matrix().reset_index()\n",
    "\n",
    "old_emdf = pd.read_csv(\"em.old.csv\", index_col=[0])\n",
    "old_flendf = pd.read_csv(\"flen.old.csv\", index_col=[0])\n",
    "old_nucdf = pd.read_csv(\"nuc.old.csv\", index_col=[0])   \n",
    "\n",
    "sampleid = \"ZLAAO90NB\"\n",
    "\n",
    "check_em = emdf.merge(old_emdf, right_on = \"feat\", left_on = \"feat\")\n",
    "check_flen = flendf.merge(old_flendf, right_on = \"feat\", left_on = \"feat\")\n",
    "check_nuc = nucdf.merge(old_nucdf, right_on = \"feat\", left_on = \"feat\")"
   ]
  },
  {
   "cell_type": "code",
   "execution_count": null,
   "metadata": {},
   "outputs": [],
   "source": [
    "check_em.set_index(\"feat\").plot()"
   ]
  },
  {
   "cell_type": "code",
   "execution_count": null,
   "metadata": {},
   "outputs": [],
   "source": [
    "check_flen.set_index(\"feat\").plot()"
   ]
  },
  {
   "cell_type": "code",
   "execution_count": null,
   "metadata": {},
   "outputs": [],
   "source": [
    "check_nuc.set_index(\"feat\").plot()"
   ]
  },
  {
   "cell_type": "code",
   "execution_count": null,
   "metadata": {},
   "outputs": [],
   "source": [
    "import numpy as np\n",
    "import pandas as pd\n",
    "import matplotlib.pyplot as plt\n",
    "import seaborn as sns\n",
    "import os\n",
    "import pathlib\n",
    "from tqdm import tqdm\n",
    "from feature_class import *\n",
    "\n",
    "input_tsv = \"/Users/hieunguyen/src/ecd_wgs_features/batch_test/1-ZLAAO90NB_S7509-S7709.sorted/1-ZLAAO90NB_S7509-S7709.sorted.final_output.tsv\"\n",
    "motif_order_path = \"./motif_order.csv\"\n",
    "outputdir = \"./batch_test/1-ZLAAO90NB_S7509-S7709.sorted\"\n",
    "path_to_old_nuc = \"./batch_test/1-ZLAAO90NB_S7509-S7709.sorted/1-ZLAAO90NB_S7509-S7709.sorted.full_Nucleosome.dist.final.bed\"\n",
    "\n",
    "keep_files = [item for item in pathlib.Path(outputdir).glob(\"*\") if \".full_Nucleosome.dist.final.bed\" in item.name \n",
    "                           or \".final_output.tsv\" in item.name]\n",
    "all_files = [item for item in pathlib.Path(outputdir).glob(\"*\")]\n",
    "files_to_delete = [item for item in all_files if item not in keep_files]\n"
   ]
  },
  {
   "cell_type": "code",
   "execution_count": 30,
   "metadata": {},
   "outputs": [
    {
     "name": "stderr",
     "output_type": "stream",
     "text": [
      "/var/folders/8j/g55jqp3s7mj16s_gvcwb4y800000gn/T/ipykernel_14747/3070878919.py:1: DtypeWarning: Columns (0) have mixed types. Specify dtype option on import or set low_memory=False.\n",
      "  maindf = pd.read_csv(\"/Users/hieunguyen/src/ecd_wgs_features/batch_test_FinaleDB/EE87519.hg19/EE87519.hg19.final_output.tsv\",\n"
     ]
    },
    {
     "data": {
      "text/plain": [
       "array(['X', 'Y'], dtype=object)"
      ]
     },
     "execution_count": 30,
     "metadata": {},
     "output_type": "execute_result"
    }
   ],
   "source": [
    "maindf = pd.read_csv(\"/Users/hieunguyen/src/ecd_wgs_features/batch_test_FinaleDB/EE87519.hg19/EE87519.hg19.final_output.tsv\",\n",
    "                     sep = \"\\t\", header = None)\n",
    "maindf[(maindf[8].isna())][0].unique()"
   ]
  },
  {
   "cell_type": "code",
   "execution_count": 33,
   "metadata": {},
   "outputs": [
    {
     "data": {
      "text/plain": [
       "array([1, 10, 11, 12, 13, 14, 15, 16, 17, 18, 19, 2, 20, 21, 22, 3, 4, 5,\n",
       "       6, 7, 8, 9, '9', 'GL000191.1', 'GL000192.1', 'GL000193.1',\n",
       "       'GL000194.1', 'GL000195.1', 'GL000196.1', 'GL000197.1',\n",
       "       'GL000198.1', 'GL000199.1', 'GL000200.1', 'GL000201.1',\n",
       "       'GL000202.1', 'GL000203.1', 'GL000204.1', 'GL000205.1',\n",
       "       'GL000206.1', 'GL000207.1', 'GL000208.1', 'GL000209.1',\n",
       "       'GL000210.1', 'GL000211.1', 'GL000212.1', 'GL000213.1',\n",
       "       'GL000214.1', 'GL000215.1', 'GL000216.1', 'GL000217.1',\n",
       "       'GL000218.1', 'GL000219.1', 'GL000220.1', 'GL000221.1',\n",
       "       'GL000222.1', 'GL000223.1', 'GL000224.1', 'GL000225.1',\n",
       "       'GL000226.1', 'GL000227.1', 'GL000228.1', 'GL000229.1',\n",
       "       'GL000230.1', 'GL000231.1', 'GL000232.1', 'GL000233.1',\n",
       "       'GL000234.1', 'GL000235.1', 'GL000236.1', 'GL000237.1',\n",
       "       'GL000238.1', 'GL000239.1', 'GL000240.1', 'GL000241.1',\n",
       "       'GL000242.1', 'GL000243.1', 'GL000244.1', 'GL000245.1',\n",
       "       'GL000246.1', 'GL000247.1', 'GL000248.1', 'GL000249.1', 'MT', 'X',\n",
       "       'Y'], dtype=object)"
      ]
     },
     "execution_count": 33,
     "metadata": {},
     "output_type": "execute_result"
    }
   ],
   "source": [
    "maindf[0].unique()"
   ]
  }
 ],
 "metadata": {
  "kernelspec": {
   "display_name": "pytorch",
   "language": "python",
   "name": "python3"
  },
  "language_info": {
   "codemirror_mode": {
    "name": "ipython",
    "version": 3
   },
   "file_extension": ".py",
   "mimetype": "text/x-python",
   "name": "python",
   "nbconvert_exporter": "python",
   "pygments_lexer": "ipython3",
   "version": "3.8.19"
  }
 },
 "nbformat": 4,
 "nbformat_minor": 2
}
