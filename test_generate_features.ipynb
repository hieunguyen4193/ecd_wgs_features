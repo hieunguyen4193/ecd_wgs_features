{
 "cells": [
  {
   "cell_type": "code",
   "execution_count": null,
   "metadata": {},
   "outputs": [
    {
     "name": "stdout",
     "output_type": "stream",
     "text": [
      "reading in the input frag.tsv data\n"
     ]
    }
   ],
   "source": [
    "import numpy as np\n",
    "import pandas as pd\n",
    "import matplotlib.pyplot as plt\n",
    "import seaborn as sns\n",
    "import os\n",
    "import pathlib\n",
    "from tqdm import tqdm\n",
    "from feature_class import *\n",
    "\n",
    "input_tsv = \"/Users/hieunguyen/src/ecd_wgs_features/output_debug/1-ZLAAO90NB_S7509-S7709.sorted.final_output.tsv\"\n",
    "motif_order_path = \"./motif_order.csv\"\n",
    "outputdir = \"./output_debug\"\n",
    "path_to_old_nuc = \"./output_debug/1-ZLAAO90NB_S7509-S7709.sorted.full_Nucleosome.dist.final.bed\"\n",
    "\n",
    "output_obj = WGS_GW_Image_features(input_tsv = input_tsv,\n",
    "                             motif_order_path = motif_order_path,\n",
    "                             outputdir = outputdir,\n",
    "                             path_to_old_nuc = path_to_old_nuc)\n",
    "    \n",
    "##### generate GW features and save features to output dir\n",
    "output_obj.generate_flen_feature()\n",
    "output_obj.generate_em_feature()\n",
    "# output_obj.generate_nuc_feature()\n",
    "output_obj.generate_nuc_feature_1()\n",
    "\n",
    "all_features = WGS_GW_features(path_to_feature_dir=\"/Users/hieunguyen/src/ecd_wgs_features/output_debug\",\n",
    "                               path_to_metadata=None)\n",
    "\n",
    "emdf = all_features.generate_em_matrix().reset_index()\n",
    "nucdf = all_features.generate_nuc_matrix().reset_index()\n",
    "flendf = all_features.generate_flen_matrix().reset_index()\n",
    "\n",
    "old_emdf = pd.read_csv(\"em.old.csv\", index_col=[0])\n",
    "old_flendf = pd.read_csv(\"flen.old.csv\", index_col=[0])\n",
    "old_nucdf = pd.read_csv(\"nuc.old.csv\", index_col=[0])   "
   ]
  }
 ],
 "metadata": {
  "kernelspec": {
   "display_name": "pytorch",
   "language": "python",
   "name": "python3"
  },
  "language_info": {
   "codemirror_mode": {
    "name": "ipython",
    "version": 3
   },
   "file_extension": ".py",
   "mimetype": "text/x-python",
   "name": "python",
   "nbconvert_exporter": "python",
   "pygments_lexer": "ipython3",
   "version": "3.8.19"
  }
 },
 "nbformat": 4,
 "nbformat_minor": 2
}
