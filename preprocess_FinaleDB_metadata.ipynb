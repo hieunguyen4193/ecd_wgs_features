{
 "cells": [
  {
   "cell_type": "code",
   "execution_count": 38,
   "metadata": {},
   "outputs": [],
   "source": [
    "import pandas as pd\n",
    "import numpy as np\n",
    "\n",
    "metadata = pd.read_csv(\"./FinaleDB_metadata/FinaleDB_samplesheet.csv\")\n",
    "metadata2 = pd.read_csv(\"./FinaleDB_metadata/metadata_full.csv\")\n",
    "\n",
    "metadata[\"SampleID\"] = metadata[\"SampleID\"].str.replace(\".hg19\", \"\")\n",
    "new_metadata = metadata.merge(metadata2, right_on = \"SampleID\", left_on = \"SampleID\")\n",
    "\n",
    "num_batches = 10\n",
    "batches = np.array_split(new_metadata, num_batches)\n",
    "\n",
    "for i in range(0, num_batches):\n",
    "    batches[i].to_csv(f\"./FinaleDB_metadata/batch_{i}.csv\", index = False)\n",
    "    tmpdf = batches[i].copy()\n",
    "    tmpdf[\"newpath\"] = tmpdf[\"path\"].apply(lambda x: x.replace(\n",
    "        \"/mnt/NAS_PROJECT/vol_ECDteam/hieunho/data/finaledb_extract\",\n",
    "        f\"/datassd/DATA_HIEUNGUYEN/2024/storage/FinaleDB/batch_{i}\"\n",
    "    )) \n",
    "    tmpdf = tmpdf[[\"SampleID\", \"newpath\"]]\n",
    "    tmpdf.columns = [\"SampleID\", \"path\"]\n",
    "    tmpdf.to_csv(f\"./FinaleDB_metadata/batch_{i}.SampleSheet.csv\", index = False)\n"
   ]
  }
 ],
 "metadata": {
  "kernelspec": {
   "display_name": "pytorch",
   "language": "python",
   "name": "python3"
  },
  "language_info": {
   "codemirror_mode": {
    "name": "ipython",
    "version": 3
   },
   "file_extension": ".py",
   "mimetype": "text/x-python",
   "name": "python",
   "nbconvert_exporter": "python",
   "pygments_lexer": "ipython3",
   "version": "3.8.19"
  }
 },
 "nbformat": 4,
 "nbformat_minor": 2
}
